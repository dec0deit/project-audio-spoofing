{
 "cells": [
  {
   "cell_type": "code",
   "execution_count": 1,
   "id": "0497c994",
   "metadata": {},
   "outputs": [],
   "source": [
    "import numpy as np\n",
    "import pandas as pd\n",
    "import seaborn as sns\n",
    "import matplotlib.pyplot as plt\n",
    "%matplotlib inline\n",
    "plt.show()"
   ]
  },
  {
   "cell_type": "code",
   "execution_count": 2,
   "id": "2456fdcf",
   "metadata": {},
   "outputs": [],
   "source": [
    "from IPython.core.interactiveshell import InteractiveShell\n",
    "InteractiveShell.ast_node_interactivity=\"all\"\n",
    "from sklearn import svm\n",
    "from sklearn import preprocessing\n",
    "from sklearn import metrics\n",
    "from sklearn.model_selection import train_test_split\n",
    "from sklearn.naive_bayes import GaussianNB\n",
    "from sklearn.metrics import roc_curve, auc, recall_score, precision_score, f1_score\n",
    "from sklearn.metrics import confusion_matrix, average_precision_score, recall_score, classification_report"
   ]
  },
  {
   "cell_type": "code",
   "execution_count": 3,
   "id": "dd9e91e2",
   "metadata": {},
   "outputs": [
    {
     "name": "stdout",
     "output_type": "stream",
     "text": [
      "<class 'pandas.core.frame.DataFrame'>\n",
      "RangeIndex: 5972 entries, 0 to 5971\n",
      "Data columns (total 43 columns):\n",
      " #   Column       Non-Null Count  Dtype  \n",
      "---  ------       --------------  -----  \n",
      " 0   -0.55307     5972 non-null   float64\n",
      " 1   -15.772      5972 non-null   float64\n",
      " 2   3.4207       5972 non-null   float64\n",
      " 3   0.33526      5972 non-null   float64\n",
      " 4   0.89613      5972 non-null   float64\n",
      " 5   0.088091     5972 non-null   float64\n",
      " 6   0.41567      5972 non-null   float64\n",
      " 7   0.1267       5972 non-null   float64\n",
      " 8   0.13255      5972 non-null   float64\n",
      " 9   0.33759      5972 non-null   float64\n",
      " 10  0.02388      5972 non-null   float64\n",
      " 11  0.14724      5972 non-null   float64\n",
      " 12  -0.012345    5972 non-null   float64\n",
      " 13  0.065987     5972 non-null   float64\n",
      " 14  -0.0051918   5972 non-null   float64\n",
      " 15  -0.0681      5972 non-null   float64\n",
      " 16  0.0098545    5972 non-null   float64\n",
      " 17  0.0016494    5972 non-null   float64\n",
      " 18  0.0024727    5972 non-null   float64\n",
      " 19  0.0012828    5972 non-null   float64\n",
      " 20  0.0017892    5972 non-null   float64\n",
      " 21  0.0010322    5972 non-null   float64\n",
      " 22  0.001355     5972 non-null   float64\n",
      " 23  0.0012152    5972 non-null   float64\n",
      " 24  0.0010131    5972 non-null   float64\n",
      " 25  0.0011177    5972 non-null   float64\n",
      " 26  0.0010352    5972 non-null   float64\n",
      " 27  0.00035182   5972 non-null   float64\n",
      " 28  0.00031265   5972 non-null   float64\n",
      " 29  -0.00050906  5972 non-null   float64\n",
      " 30  4.81e-05     5972 non-null   float64\n",
      " 31  0.00013754   5972 non-null   float64\n",
      " 32  -0.00027018  5972 non-null   float64\n",
      " 33  2.4793e-05   5972 non-null   float64\n",
      " 34  -2.572e-05   5972 non-null   float64\n",
      " 35  2.7463e-05   5972 non-null   float64\n",
      " 36  -0.00010205  5972 non-null   float64\n",
      " 37  6.3365e-05   5972 non-null   float64\n",
      " 38  0.00011715   5972 non-null   float64\n",
      " 39  8.8406e-05   5972 non-null   float64\n",
      " 40  0.00023632   5972 non-null   float64\n",
      " 41  6.1803e-05   5972 non-null   float64\n",
      " 42  0            5972 non-null   int64  \n",
      "dtypes: float64(42), int64(1)\n",
      "memory usage: 2.0 MB\n"
     ]
    }
   ],
   "source": [
    "df = pd.read_csv('C:\\\\Users\\\\singl\\\\OneDrive\\\\Documents\\\\MATLAB\\\\frontend\\\\M_TRAIN.csv')\n",
    "df.info()"
   ]
  },
  {
   "cell_type": "code",
   "execution_count": 4,
   "id": "f6c07957",
   "metadata": {},
   "outputs": [],
   "source": [
    "x_train = df.iloc[:, 0:42].values\n",
    "y_train = df.iloc[:,-1].values"
   ]
  },
  {
   "cell_type": "code",
   "execution_count": 5,
   "id": "adb1ba54",
   "metadata": {},
   "outputs": [],
   "source": [
    "y_train=y_train.astype(int)"
   ]
  },
  {
   "cell_type": "code",
   "execution_count": 6,
   "id": "b9a95b62",
   "metadata": {},
   "outputs": [],
   "source": [
    "gnb = GaussianNB()"
   ]
  },
  {
   "cell_type": "code",
   "execution_count": 7,
   "id": "3bb731d3",
   "metadata": {
    "scrolled": true
   },
   "outputs": [
    {
     "data": {
      "text/plain": [
       "GaussianNB()"
      ]
     },
     "execution_count": 7,
     "metadata": {},
     "output_type": "execute_result"
    }
   ],
   "source": [
    "gnb.fit(x_train,y_train)"
   ]
  },
  {
   "cell_type": "code",
   "execution_count": 8,
   "id": "8a1b0ece",
   "metadata": {},
   "outputs": [],
   "source": [
    "df = pd.read_csv('C:\\\\Users\\\\singl\\\\OneDrive\\\\Documents\\\\MATLAB\\\\frontend\\\\M_TEST.csv')"
   ]
  },
  {
   "cell_type": "code",
   "execution_count": 9,
   "id": "e293d043",
   "metadata": {},
   "outputs": [
    {
     "name": "stdout",
     "output_type": "stream",
     "text": [
      "<class 'pandas.core.frame.DataFrame'>\n",
      "RangeIndex: 5460 entries, 0 to 5459\n",
      "Data columns (total 43 columns):\n",
      " #   Column       Non-Null Count  Dtype  \n",
      "---  ------       --------------  -----  \n",
      " 0   -0.61543     5460 non-null   float64\n",
      " 1   -16.014      5460 non-null   float64\n",
      " 2   3.4098       5460 non-null   float64\n",
      " 3   0.47797      5460 non-null   float64\n",
      " 4   1.0294       5460 non-null   float64\n",
      " 5   -0.089357    5460 non-null   float64\n",
      " 6   0.46573      5460 non-null   float64\n",
      " 7   0.029168     5460 non-null   float64\n",
      " 8   0.14766      5460 non-null   float64\n",
      " 9   0.35773      5460 non-null   float64\n",
      " 10  0.0048383    5460 non-null   float64\n",
      " 11  0.10242      5460 non-null   float64\n",
      " 12  -0.06141     5460 non-null   float64\n",
      " 13  0.17928      5460 non-null   float64\n",
      " 14  -0.0052878   5460 non-null   float64\n",
      " 15  -0.068714    5460 non-null   float64\n",
      " 16  0.010755     5460 non-null   float64\n",
      " 17  0.0020407    5460 non-null   float64\n",
      " 18  0.0034614    5460 non-null   float64\n",
      " 19  0.0021043    5460 non-null   float64\n",
      " 20  0.0016292    5460 non-null   float64\n",
      " 21  0.0015598    5460 non-null   float64\n",
      " 22  0.0017819    5460 non-null   float64\n",
      " 23  0.0012317    5460 non-null   float64\n",
      " 24  0.00053332   5460 non-null   float64\n",
      " 25  0.00024496   5460 non-null   float64\n",
      " 26  0.00037044   5460 non-null   float64\n",
      " 27  0.00054135   5460 non-null   float64\n",
      " 28  0.00058574   5460 non-null   float64\n",
      " 29  0.00024132   5460 non-null   float64\n",
      " 30  5.8864e-06   5460 non-null   float64\n",
      " 31  -0.00010845  5460 non-null   float64\n",
      " 32  8.6012e-06   5460 non-null   float64\n",
      " 33  7.1946e-05   5460 non-null   float64\n",
      " 34  -0.0001292   5460 non-null   float64\n",
      " 35  0.00016808   5460 non-null   float64\n",
      " 36  6.1809e-05   5460 non-null   float64\n",
      " 37  8.6707e-05   5460 non-null   float64\n",
      " 38  -5.5174e-05  5460 non-null   float64\n",
      " 39  -0.00011042  5460 non-null   float64\n",
      " 40  7.9223e-05   5460 non-null   float64\n",
      " 41  0.00013278   5460 non-null   float64\n",
      " 42  0            5460 non-null   int64  \n",
      "dtypes: float64(42), int64(1)\n",
      "memory usage: 1.8 MB\n"
     ]
    }
   ],
   "source": [
    "df.info()"
   ]
  },
  {
   "cell_type": "code",
   "execution_count": 10,
   "id": "0600d62a",
   "metadata": {},
   "outputs": [
    {
     "data": {
      "text/plain": [
       "array([0, 0, 0, ..., 2, 2, 2], dtype=int64)"
      ]
     },
     "execution_count": 10,
     "metadata": {},
     "output_type": "execute_result"
    }
   ],
   "source": [
    "x_test = df.iloc[:, 0:42].values\n",
    "y_test = df.iloc[:,-1].values\n",
    "y_test"
   ]
  },
  {
   "cell_type": "code",
   "execution_count": 11,
   "id": "b6ba1c63",
   "metadata": {},
   "outputs": [],
   "source": [
    "# y_test=y.astype(int)\n",
    "# y_test"
   ]
  },
  {
   "cell_type": "code",
   "execution_count": 12,
   "id": "7b8db06c",
   "metadata": {},
   "outputs": [
    {
     "data": {
      "text/plain": [
       "array([0, 0, 0, ..., 0, 1, 1])"
      ]
     },
     "execution_count": 12,
     "metadata": {},
     "output_type": "execute_result"
    }
   ],
   "source": [
    "y_pred=gnb.predict(x_test)\n",
    "y_pred"
   ]
  },
  {
   "cell_type": "code",
   "execution_count": 13,
   "id": "4b02b0d1",
   "metadata": {},
   "outputs": [
    {
     "name": "stdout",
     "output_type": "stream",
     "text": [
      "The Accuracy for Test Set is 50.8974358974359\n",
      "              precision    recall  f1-score   support\n",
      "\n",
      "           0       0.34      0.58      0.43       509\n",
      "           1       0.56      0.49      0.52      2474\n",
      "           2       0.53      0.51      0.52      2477\n",
      "\n",
      "    accuracy                           0.51      5460\n",
      "   macro avg       0.47      0.53      0.49      5460\n",
      "weighted avg       0.52      0.51      0.51      5460\n",
      "\n"
     ]
    }
   ],
   "source": [
    "from sklearn.metrics import accuracy_score\n",
    "test_acc = accuracy_score(y_test, y_pred)\n",
    "print(\"The Accuracy for Test Set is {}\".format(test_acc*100))\n",
    "print(classification_report(y_test, y_pred))"
   ]
  },
  {
   "cell_type": "code",
   "execution_count": 14,
   "id": "75e507da",
   "metadata": {},
   "outputs": [
    {
     "data": {
      "text/plain": [
       "<Figure size 864x432 with 0 Axes>"
      ]
     },
     "execution_count": 14,
     "metadata": {},
     "output_type": "execute_result"
    },
    {
     "data": {
      "text/plain": [
       "Text(0.5, 1.0, 'Confusion Matrix')"
      ]
     },
     "execution_count": 14,
     "metadata": {},
     "output_type": "execute_result"
    },
    {
     "data": {
      "text/plain": [
       "<AxesSubplot:title={'center':'Confusion Matrix'}>"
      ]
     },
     "execution_count": 14,
     "metadata": {},
     "output_type": "execute_result"
    },
    {
     "data": {
      "text/plain": [
       "Text(87.0, 0.5, 'Actual Values')"
      ]
     },
     "execution_count": 14,
     "metadata": {},
     "output_type": "execute_result"
    },
    {
     "data": {
      "text/plain": [
       "Text(0.5, 33.0, 'Predicted Values')"
      ]
     },
     "execution_count": 14,
     "metadata": {},
     "output_type": "execute_result"
    },
    {
     "data": {
      "image/png": "[encoded data removed]",
      "text/plain": [
       "<Figure size 864x432 with 2 Axes>"
      ]
     },
     "metadata": {
      "needs_background": "light"
     },
     "output_type": "display_data"
    }
   ],
   "source": [
    "cm=confusion_matrix(y_test,y_pred)\n",
    "plt.figure(figsize=(12,6))\n",
    "plt.title(\"Confusion Matrix\")\n",
    "sns.heatmap(cm, annot=True,fmt='d', cmap='Blues')\n",
    "plt.ylabel(\"Actual Values\")\n",
    "plt.xlabel(\"Predicted Values\")\n",
    "plt.savefig('confusion_matrix.png')"
   ]
  },
  {
   "cell_type": "code",
   "execution_count": 15,
   "id": "6dfc90be",
   "metadata": {},
   "outputs": [
    {
     "name": "stdout",
     "output_type": "stream",
     "text": [
      "2\n",
      "EER =  0.5796281325788197\n"
     ]
    }
   ],
   "source": [
    "from sklearn.metrics import accuracy_score\n",
    "from sklearn.metrics import precision_score\n",
    "from sklearn.metrics import recall_score\n",
    "from sklearn.metrics import f1_score\n",
    "\n",
    "import numpy as np\n",
    "from sklearn.metrics import roc_curve\n",
    "\n",
    "fpr, tpr, threshold = roc_curve(y_test,y_pred, pos_label=1)\n",
    "fnr = 1 - tpr\n",
    "eer_threshold = threshold[np.nanargmin(np.absolute((fnr - fpr)))]\n",
    "EER = fnr[np.nanargmin(np.absolute((fnr - fpr)))]\n",
    "print(eer_threshold)\n",
    "print(\"EER = \", EER)"
   ]
  },
  {
   "cell_type": "code",
   "execution_count": null,
   "id": "89db312a",
   "metadata": {},
   "outputs": [],
   "source": []
  }
 ],
 "metadata": {
  "kernelspec": {
   "display_name": "Python 3 (ipykernel)",
   "language": "python",
   "name": "python3"
  },
  "language_info": {
   "codemirror_mode": {
    "name": "ipython",
    "version": 3
   },
   "file_extension": ".py",
   "mimetype": "text/x-python",
   "name": "python",
   "nbconvert_exporter": "python",
   "pygments_lexer": "ipython3",
   "version": "3.9.7"
  }
 },
 "nbformat": 4,
 "nbformat_minor": 5
}
