{
 "cells": [
  {
   "cell_type": "code",
   "execution_count": 17,
   "id": "11398cb8",
   "metadata": {},
   "outputs": [],
   "source": [
    "import pandas as pd\n",
    "from sklearn.model_selection import train_test_split\n",
    "from sklearn.linear_model import LogisticRegression\n",
    "from sklearn import preprocessing\n",
    "from sklearn.neighbors import KNeighborsClassifier\n",
    "from sklearn.metrics import accuracy_score, classification_report, confusion_matrix\n",
    "from matplotlib import pyplot as plt\n",
    "import seaborn as sns\n",
    "\n",
    "df = pd.read_csv('C:\\\\Users\\\\anjal\\\\Desktop\\\\project-audio-spoofing\\\\frontend\\\\M_TRAIN.csv')"
   ]
  },
  {
   "cell_type": "code",
   "execution_count": 18,
   "id": "84529537",
   "metadata": {},
   "outputs": [
    {
     "name": "stdout",
     "output_type": "stream",
     "text": [
      "<class 'pandas.core.frame.DataFrame'>\n",
      "RangeIndex: 5972 entries, 0 to 5971\n",
      "Data columns (total 43 columns):\n",
      " #   Column       Non-Null Count  Dtype  \n",
      "---  ------       --------------  -----  \n",
      " 0   -0.55307     5972 non-null   float64\n",
      " 1   -15.772      5972 non-null   float64\n",
      " 2   3.4207       5972 non-null   float64\n",
      " 3   0.33526      5972 non-null   float64\n",
      " 4   0.89613      5972 non-null   float64\n",
      " 5   0.088091     5972 non-null   float64\n",
      " 6   0.41567      5972 non-null   float64\n",
      " 7   0.1267       5972 non-null   float64\n",
      " 8   0.13255      5972 non-null   float64\n",
      " 9   0.33759      5972 non-null   float64\n",
      " 10  0.02388      5972 non-null   float64\n",
      " 11  0.14724      5972 non-null   float64\n",
      " 12  -0.012345    5972 non-null   float64\n",
      " 13  0.065987     5972 non-null   float64\n",
      " 14  -0.0051918   5972 non-null   float64\n",
      " 15  -0.0681      5972 non-null   float64\n",
      " 16  0.0098545    5972 non-null   float64\n",
      " 17  0.0016494    5972 non-null   float64\n",
      " 18  0.0024727    5972 non-null   float64\n",
      " 19  0.0012828    5972 non-null   float64\n",
      " 20  0.0017892    5972 non-null   float64\n",
      " 21  0.0010322    5972 non-null   float64\n",
      " 22  0.001355     5972 non-null   float64\n",
      " 23  0.0012152    5972 non-null   float64\n",
      " 24  0.0010131    5972 non-null   float64\n",
      " 25  0.0011177    5972 non-null   float64\n",
      " 26  0.0010352    5972 non-null   float64\n",
      " 27  0.00035182   5972 non-null   float64\n",
      " 28  0.00031265   5972 non-null   float64\n",
      " 29  -0.00050906  5972 non-null   float64\n",
      " 30  4.81e-05     5972 non-null   float64\n",
      " 31  0.00013754   5972 non-null   float64\n",
      " 32  -0.00027018  5972 non-null   float64\n",
      " 33  2.4793e-05   5972 non-null   float64\n",
      " 34  -2.572e-05   5972 non-null   float64\n",
      " 35  2.7463e-05   5972 non-null   float64\n",
      " 36  -0.00010205  5972 non-null   float64\n",
      " 37  6.3365e-05   5972 non-null   float64\n",
      " 38  0.00011715   5972 non-null   float64\n",
      " 39  8.8406e-05   5972 non-null   float64\n",
      " 40  0.00023632   5972 non-null   float64\n",
      " 41  6.1803e-05   5972 non-null   float64\n",
      " 42  0            5972 non-null   int64  \n",
      "dtypes: float64(42), int64(1)\n",
      "memory usage: 2.0 MB\n"
     ]
    }
   ],
   "source": [
    "df.info()\n",
    "X = df.iloc[:, 0:42].values\n",
    "y = df.iloc[:,-1].values\n",
    "\n",
    "y=y.astype(int)\n",
    "\n",
    "scaler = preprocessing.StandardScaler().fit(X)\n",
    "X_scaled = scaler.transform(X)"
   ]
  },
  {
   "cell_type": "code",
   "execution_count": 19,
   "id": "aff1824e",
   "metadata": {},
   "outputs": [
    {
     "name": "stdout",
     "output_type": "stream",
     "text": [
      "The Accuracy for Training Set is 96.95244474212994\n",
      "<class 'pandas.core.frame.DataFrame'>\n",
      "RangeIndex: 5460 entries, 0 to 5459\n",
      "Data columns (total 43 columns):\n",
      " #   Column       Non-Null Count  Dtype  \n",
      "---  ------       --------------  -----  \n",
      " 0   -0.61543     5460 non-null   float64\n",
      " 1   -16.014      5460 non-null   float64\n",
      " 2   3.4098       5460 non-null   float64\n",
      " 3   0.47797      5460 non-null   float64\n",
      " 4   1.0294       5460 non-null   float64\n",
      " 5   -0.089357    5460 non-null   float64\n",
      " 6   0.46573      5460 non-null   float64\n",
      " 7   0.029168     5460 non-null   float64\n",
      " 8   0.14766      5460 non-null   float64\n",
      " 9   0.35773      5460 non-null   float64\n",
      " 10  0.0048383    5460 non-null   float64\n",
      " 11  0.10242      5460 non-null   float64\n",
      " 12  -0.06141     5460 non-null   float64\n",
      " 13  0.17928      5460 non-null   float64\n",
      " 14  -0.0052878   5460 non-null   float64\n",
      " 15  -0.068714    5460 non-null   float64\n",
      " 16  0.010755     5460 non-null   float64\n",
      " 17  0.0020407    5460 non-null   float64\n",
      " 18  0.0034614    5460 non-null   float64\n",
      " 19  0.0021043    5460 non-null   float64\n",
      " 20  0.0016292    5460 non-null   float64\n",
      " 21  0.0015598    5460 non-null   float64\n",
      " 22  0.0017819    5460 non-null   float64\n",
      " 23  0.0012317    5460 non-null   float64\n",
      " 24  0.00053332   5460 non-null   float64\n",
      " 25  0.00024496   5460 non-null   float64\n",
      " 26  0.00037044   5460 non-null   float64\n",
      " 27  0.00054135   5460 non-null   float64\n",
      " 28  0.00058574   5460 non-null   float64\n",
      " 29  0.00024132   5460 non-null   float64\n",
      " 30  5.8864e-06   5460 non-null   float64\n",
      " 31  -0.00010845  5460 non-null   float64\n",
      " 32  8.6012e-06   5460 non-null   float64\n",
      " 33  7.1946e-05   5460 non-null   float64\n",
      " 34  -0.0001292   5460 non-null   float64\n",
      " 35  0.00016808   5460 non-null   float64\n",
      " 36  6.1809e-05   5460 non-null   float64\n",
      " 37  8.6707e-05   5460 non-null   float64\n",
      " 38  -5.5174e-05  5460 non-null   float64\n",
      " 39  -0.00011042  5460 non-null   float64\n",
      " 40  7.9223e-05   5460 non-null   float64\n",
      " 41  0.00013278   5460 non-null   float64\n",
      " 42  0            5460 non-null   int64  \n",
      "dtypes: float64(42), int64(1)\n",
      "memory usage: 1.8 MB\n"
     ]
    }
   ],
   "source": [
    "model = KNeighborsClassifier(n_neighbors=7)\n",
    "\n",
    "model.fit(X_scaled, y)\n",
    "\n",
    "train_acc = model.score(X_scaled, y)\n",
    "print(\"The Accuracy for Training Set is {}\".format(train_acc*100))\n",
    "\n",
    "df = pd.read_csv('C:\\\\Users\\\\anjal\\\\Desktop\\\\project-audio-spoofing\\\\frontend\\\\M_TEST.csv')\n",
    "\n",
    "df.info()\n"
   ]
  },
  {
   "cell_type": "code",
   "execution_count": 20,
   "id": "1d18b799",
   "metadata": {},
   "outputs": [
    {
     "data": {
      "text/plain": [
       "array([0, 0, 0, ..., 0, 1, 1])"
      ]
     },
     "execution_count": 20,
     "metadata": {},
     "output_type": "execute_result"
    }
   ],
   "source": [
    "x_test = df.iloc[:, 0:42].values\n",
    "y_test = df.iloc[:,-1].values\n",
    "#y_test=y.astype(int)\n",
    "\n",
    "scaler = preprocessing.StandardScaler().fit(x_test)\n",
    "x_scaled_test = scaler.transform(x_test)\n",
    "\n",
    "y_pred=model.predict(x_scaled_test)\n",
    "y_pred"
   ]
  },
  {
   "cell_type": "code",
   "execution_count": 21,
   "id": "f52ef421",
   "metadata": {},
   "outputs": [
    {
     "name": "stdout",
     "output_type": "stream",
     "text": [
      "The Accuracy for Test Set is 77.71062271062272\n",
      "              precision    recall  f1-score   support\n",
      "\n",
      "           0       0.41      0.92      0.57       509\n",
      "           1       0.81      0.92      0.86      2474\n",
      "           2       0.99      0.60      0.75      2477\n",
      "\n",
      "    accuracy                           0.78      5460\n",
      "   macro avg       0.74      0.81      0.73      5460\n",
      "weighted avg       0.85      0.78      0.78      5460\n",
      "\n"
     ]
    }
   ],
   "source": [
    "test_acc = accuracy_score(y_test, y_pred)\n",
    "print(\"The Accuracy for Test Set is {}\".format(test_acc*100))\n",
    "print(classification_report(y_test, y_pred))"
   ]
  },
  {
   "cell_type": "code",
   "execution_count": 22,
   "id": "3ff708b2",
   "metadata": {},
   "outputs": [
    {
     "data": {
      "image/png": "[encoded data removed]",
      "text/plain": [
       "<Figure size 864x432 with 2 Axes>"
      ]
     },
     "metadata": {
      "needs_background": "light"
     },
     "output_type": "display_data"
    }
   ],
   "source": [
    "cm=confusion_matrix(y_test,y_pred)\n",
    "plt.figure(figsize=(12,6))\n",
    "plt.title(\"Confusion Matrix\")\n",
    "sns.heatmap(cm, annot=True,fmt='d', cmap='Blues')\n",
    "plt.ylabel(\"Actual Values\")\n",
    "plt.xlabel(\"Predicted Values\")\n",
    "plt.savefig('confusion_matrix.png')"
   ]
  },
  {
   "cell_type": "code",
   "execution_count": 23,
   "id": "2b5c9c1d",
   "metadata": {},
   "outputs": [
    {
     "name": "stdout",
     "output_type": "stream",
     "text": [
      "2\n",
      "EER =  0.9935327405012127\n"
     ]
    }
   ],
   "source": [
    "from sklearn.metrics import accuracy_score\n",
    "from sklearn.metrics import precision_score\n",
    "from sklearn.metrics import recall_score\n",
    "from sklearn.metrics import f1_score\n",
    "\n",
    "import numpy as np\n",
    "from sklearn.metrics import roc_curve\n",
    "\n",
    "fpr, tpr, threshold = roc_curve(y_test,y_pred, pos_label=1)\n",
    "fnr = 1 - tpr\n",
    "eer_threshold = threshold[np.nanargmin(np.absolute((fnr - fpr)))]\n",
    "EER = fnr[np.nanargmin(np.absolute((fnr - fpr)))]\n",
    "print(eer_threshold)\n",
    "print(\"EER = \", EER)"
   ]
  },
  {
   "cell_type": "code",
   "execution_count": null,
   "id": "e2833cb4",
   "metadata": {},
   "outputs": [],
   "source": []
  }
 ],
 "metadata": {
  "kernelspec": {
   "display_name": "Python 3 (ipykernel)",
   "language": "python",
   "name": "python3"
  },
  "language_info": {
   "codemirror_mode": {
    "name": "ipython",
    "version": 3
   },
   "file_extension": ".py",
   "mimetype": "text/x-python",
   "name": "python",
   "nbconvert_exporter": "python",
   "pygments_lexer": "ipython3",
   "version": "3.9.7"
  }
 },
 "nbformat": 4,
 "nbformat_minor": 5
}
