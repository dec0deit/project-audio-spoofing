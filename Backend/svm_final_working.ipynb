{
 "cells": [
  {
   "cell_type": "code",
   "execution_count": 1,
   "id": "0497c994",
   "metadata": {},
   "outputs": [],
   "source": [
    "import numpy as np\n",
    "import pandas as pd\n",
    "import seaborn as sns\n",
    "import matplotlib.pyplot as plt\n",
    "%matplotlib inline\n",
    "plt.show()"
   ]
  },
  {
   "cell_type": "code",
   "execution_count": 2,
   "id": "2456fdcf",
   "metadata": {},
   "outputs": [],
   "source": [
    "from IPython.core.interactiveshell import InteractiveShell\n",
    "InteractiveShell.ast_node_interactivity=\"all\"\n",
    "from sklearn import svm\n",
    "from sklearn import preprocessing\n",
    "from sklearn import metrics\n",
    "from sklearn.model_selection import train_test_split\n",
    "from sklearn.metrics import roc_curve, auc, recall_score, precision_score, f1_score\n",
    "from sklearn.metrics import confusion_matrix, average_precision_score, recall_score, classification_report"
   ]
  },
  {
   "cell_type": "code",
   "execution_count": 3,
   "id": "dd9e91e2",
   "metadata": {},
   "outputs": [
    {
     "name": "stdout",
     "output_type": "stream",
     "text": [
      "<class 'pandas.core.frame.DataFrame'>\n",
      "RangeIndex: 4128 entries, 0 to 4127\n",
      "Data columns (total 43 columns):\n",
      " #   Column       Non-Null Count  Dtype  \n",
      "---  ------       --------------  -----  \n",
      " 0   -3.1305      4128 non-null   float64\n",
      " 1   -11.768      4128 non-null   float64\n",
      " 2   3.1862       4128 non-null   float64\n",
      " 3   0.079111     4128 non-null   float64\n",
      " 4   0.30136      4128 non-null   float64\n",
      " 5   -0.29491     4128 non-null   float64\n",
      " 6   0.0045665    4128 non-null   float64\n",
      " 7   -0.32552     4128 non-null   float64\n",
      " 8   -0.022722    4128 non-null   float64\n",
      " 9   -0.06348     4128 non-null   float64\n",
      " 10  -0.014199    4128 non-null   float64\n",
      " 11  -0.27704     4128 non-null   float64\n",
      " 12  -0.09053     4128 non-null   float64\n",
      " 13  -0.29234     4128 non-null   float64\n",
      " 14  -0.045894    4128 non-null   float64\n",
      " 15  -0.10915     4128 non-null   float64\n",
      " 16  0.024324     4128 non-null   float64\n",
      " 17  0.0042246    4128 non-null   float64\n",
      " 18  0.0017968    4128 non-null   float64\n",
      " 19  -0.0017506   4128 non-null   float64\n",
      " 20  0.00049791   4128 non-null   float64\n",
      " 21  -0.00074266  4128 non-null   float64\n",
      " 22  0.0024431    4128 non-null   float64\n",
      " 23  0.00047562   4128 non-null   float64\n",
      " 24  0.001337     4128 non-null   float64\n",
      " 25  -0.0021926   4128 non-null   float64\n",
      " 26  -0.001256    4128 non-null   float64\n",
      " 27  -0.001346    4128 non-null   float64\n",
      " 28  -0.00071363  4128 non-null   float64\n",
      " 29  -0.0019423   4128 non-null   float64\n",
      " 30  0.00031254   4128 non-null   float64\n",
      " 31  0.00073879   4128 non-null   float64\n",
      " 32  0.00020632   4128 non-null   float64\n",
      " 33  0.00014846   4128 non-null   float64\n",
      " 34  0.00029809   4128 non-null   float64\n",
      " 35  0.00019112   4128 non-null   float64\n",
      " 36  0.00044266   4128 non-null   float64\n",
      " 37  0.00022719   4128 non-null   float64\n",
      " 38  1.1078e-05   4128 non-null   float64\n",
      " 39  -0.00030565  4128 non-null   float64\n",
      " 40  -0.0001887   4128 non-null   float64\n",
      " 41  -1.6675e-05  4128 non-null   float64\n",
      " 42  1            4128 non-null   int64  \n",
      "dtypes: float64(42), int64(1)\n",
      "memory usage: 1.4 MB\n"
     ]
    }
   ],
   "source": [
    "df = pd.read_csv('C:\\\\Users\\\\anjal\\\\Desktop\\\\project-audio-spoofing\\\\frontend\\\\G_TRAIN_LA19.csv')\n",
    "df.info()"
   ]
  },
  {
   "cell_type": "code",
   "execution_count": 4,
   "id": "f6c07957",
   "metadata": {},
   "outputs": [],
   "source": [
    "x_train = df.iloc[:, 0:42].values\n",
    "y_train = df.iloc[:,-1].values"
   ]
  },
  {
   "cell_type": "code",
   "execution_count": 5,
   "id": "adb1ba54",
   "metadata": {},
   "outputs": [],
   "source": [
    "y_train=y_train.astype(int)"
   ]
  },
  {
   "cell_type": "code",
   "execution_count": 6,
   "id": "b9a95b62",
   "metadata": {},
   "outputs": [],
   "source": [
    "svm_clf=svm.SVC()"
   ]
  },
  {
   "cell_type": "code",
   "execution_count": 7,
   "id": "3bb731d3",
   "metadata": {
    "scrolled": true
   },
   "outputs": [
    {
     "data": {
      "text/plain": [
       "SVC()"
      ]
     },
     "execution_count": 7,
     "metadata": {},
     "output_type": "execute_result"
    }
   ],
   "source": [
    "svm_clf.fit(x_train,y_train)"
   ]
  },
  {
   "cell_type": "code",
   "execution_count": 16,
   "id": "8a1b0ece",
   "metadata": {},
   "outputs": [],
   "source": [
    "df = pd.read_csv('C:\\\\Users\\\\anjal\\\\Desktop\\\\project-audio-spoofing\\\\frontend\\\\G_TEST_LA19.csv')"
   ]
  },
  {
   "cell_type": "code",
   "execution_count": 17,
   "id": "e293d043",
   "metadata": {},
   "outputs": [
    {
     "name": "stdout",
     "output_type": "stream",
     "text": [
      "<class 'pandas.core.frame.DataFrame'>\n",
      "RangeIndex: 7354 entries, 0 to 7353\n",
      "Data columns (total 43 columns):\n",
      " #   Column       Non-Null Count  Dtype  \n",
      "---  ------       --------------  -----  \n",
      " 0   -4.6003      7354 non-null   float64\n",
      " 1   -13.045      7354 non-null   float64\n",
      " 2   3.3278       7354 non-null   float64\n",
      " 3   -0.22138     7354 non-null   float64\n",
      " 4   0.38831      7354 non-null   float64\n",
      " 5   -0.1003      7354 non-null   float64\n",
      " 6   0.13063      7354 non-null   float64\n",
      " 7   -0.050398    7354 non-null   float64\n",
      " 8   0.053791     7354 non-null   float64\n",
      " 9   -0.043787    7354 non-null   float64\n",
      " 10  0.018655     7354 non-null   float64\n",
      " 11  -0.18834     7354 non-null   float64\n",
      " 12  -0.16344     7354 non-null   float64\n",
      " 13  -0.25853     7354 non-null   float64\n",
      " 14  -0.051261    7354 non-null   float64\n",
      " 15  -0.114       7354 non-null   float64\n",
      " 16  0.020024     7354 non-null   float64\n",
      " 17  0.0048567    7354 non-null   float64\n",
      " 18  0.0042343    7354 non-null   float64\n",
      " 19  0.0023056    7354 non-null   float64\n",
      " 20  0.0024636    7354 non-null   float64\n",
      " 21  -0.00055688  7354 non-null   float64\n",
      " 22  -0.00094851  7354 non-null   float64\n",
      " 23  -0.0014697   7354 non-null   float64\n",
      " 24  0.00032039   7354 non-null   float64\n",
      " 25  -0.00069865  7354 non-null   float64\n",
      " 26  0.00017527   7354 non-null   float64\n",
      " 27  -0.0014305   7354 non-null   float64\n",
      " 28  0.00014169   7354 non-null   float64\n",
      " 29  -0.00067577  7354 non-null   float64\n",
      " 30  0.00028671   7354 non-null   float64\n",
      " 31  0.0001701    7354 non-null   float64\n",
      " 32  0.00029217   7354 non-null   float64\n",
      " 33  0.00017276   7354 non-null   float64\n",
      " 34  0.00010128   7354 non-null   float64\n",
      " 35  -8.6619e-05  7354 non-null   float64\n",
      " 36  -0.00010018  7354 non-null   float64\n",
      " 37  -0.00017641  7354 non-null   float64\n",
      " 38  0.00010599   7354 non-null   float64\n",
      " 39  3.8787e-05   7354 non-null   float64\n",
      " 40  0.0002233    7354 non-null   float64\n",
      " 41  0.0002604    7354 non-null   float64\n",
      " 42  1            7354 non-null   int64  \n",
      "dtypes: float64(42), int64(1)\n",
      "memory usage: 2.4 MB\n"
     ]
    }
   ],
   "source": [
    "df.info()"
   ]
  },
  {
   "cell_type": "code",
   "execution_count": 18,
   "id": "0600d62a",
   "metadata": {},
   "outputs": [
    {
     "data": {
      "text/plain": [
       "array([1, 1, 1, ..., 1, 1, 1], dtype=int64)"
      ]
     },
     "execution_count": 18,
     "metadata": {},
     "output_type": "execute_result"
    }
   ],
   "source": [
    "x_test = df.iloc[:, 0:42].values\n",
    "y_test = df.iloc[:,-1].values\n",
    "y_test"
   ]
  },
  {
   "cell_type": "code",
   "execution_count": 19,
   "id": "b6ba1c63",
   "metadata": {},
   "outputs": [],
   "source": [
    "# y_test=y.astype(int)\n",
    "# y_test"
   ]
  },
  {
   "cell_type": "code",
   "execution_count": 20,
   "id": "7b8db06c",
   "metadata": {},
   "outputs": [
    {
     "data": {
      "text/plain": [
       "array([1, 1, 1, ..., 1, 1, 1])"
      ]
     },
     "execution_count": 20,
     "metadata": {},
     "output_type": "execute_result"
    }
   ],
   "source": [
    "y_pred=svm_clf.predict(x_test)\n",
    "y_pred"
   ]
  },
  {
   "cell_type": "code",
   "execution_count": 21,
   "id": "4b02b0d1",
   "metadata": {},
   "outputs": [
    {
     "name": "stdout",
     "output_type": "stream",
     "text": [
      "The Accuracy for Test Set is 97.47076420995377\n",
      "              precision    recall  f1-score   support\n",
      "\n",
      "           0       0.00      0.00      0.00         0\n",
      "           1       1.00      0.97      0.99      7354\n",
      "\n",
      "    accuracy                           0.97      7354\n",
      "   macro avg       0.50      0.49      0.49      7354\n",
      "weighted avg       1.00      0.97      0.99      7354\n",
      "\n"
     ]
    },
    {
     "name": "stderr",
     "output_type": "stream",
     "text": [
      "C:\\Users\\anjal\\anaconda3\\lib\\site-packages\\sklearn\\metrics\\_classification.py:1318: UndefinedMetricWarning: Recall and F-score are ill-defined and being set to 0.0 in labels with no true samples. Use `zero_division` parameter to control this behavior.\n",
      "  _warn_prf(average, modifier, msg_start, len(result))\n",
      "C:\\Users\\anjal\\anaconda3\\lib\\site-packages\\sklearn\\metrics\\_classification.py:1318: UndefinedMetricWarning: Recall and F-score are ill-defined and being set to 0.0 in labels with no true samples. Use `zero_division` parameter to control this behavior.\n",
      "  _warn_prf(average, modifier, msg_start, len(result))\n",
      "C:\\Users\\anjal\\anaconda3\\lib\\site-packages\\sklearn\\metrics\\_classification.py:1318: UndefinedMetricWarning: Recall and F-score are ill-defined and being set to 0.0 in labels with no true samples. Use `zero_division` parameter to control this behavior.\n",
      "  _warn_prf(average, modifier, msg_start, len(result))\n"
     ]
    }
   ],
   "source": [
    "from sklearn.metrics import accuracy_score\n",
    "test_acc = accuracy_score(y_test, y_pred)\n",
    "print(\"The Accuracy for Test Set is {}\".format(test_acc*100))\n",
    "print(classification_report(y_test, y_pred))"
   ]
  },
  {
   "cell_type": "code",
   "execution_count": 22,
   "id": "75e507da",
   "metadata": {},
   "outputs": [
    {
     "data": {
      "text/plain": [
       "<Figure size 864x432 with 0 Axes>"
      ]
     },
     "execution_count": 22,
     "metadata": {},
     "output_type": "execute_result"
    },
    {
     "data": {
      "text/plain": [
       "Text(0.5, 1.0, 'Confusion Matrix')"
      ]
     },
     "execution_count": 22,
     "metadata": {},
     "output_type": "execute_result"
    },
    {
     "data": {
      "text/plain": [
       "<AxesSubplot:title={'center':'Confusion Matrix'}>"
      ]
     },
     "execution_count": 22,
     "metadata": {},
     "output_type": "execute_result"
    },
    {
     "data": {
      "text/plain": [
       "Text(87.0, 0.5, 'Actual Values')"
      ]
     },
     "execution_count": 22,
     "metadata": {},
     "output_type": "execute_result"
    },
    {
     "data": {
      "text/plain": [
       "Text(0.5, 33.0, 'Predicted Values')"
      ]
     },
     "execution_count": 22,
     "metadata": {},
     "output_type": "execute_result"
    },
    {
     "data": {
      "image/png": "[encoded data removed]",
      "text/plain": [
       "<Figure size 864x432 with 2 Axes>"
      ]
     },
     "metadata": {
      "needs_background": "light"
     },
     "output_type": "display_data"
    }
   ],
   "source": [
    "cm=confusion_matrix(y_test,y_pred)\n",
    "plt.figure(figsize=(12,6))\n",
    "plt.title(\"Confusion Matrix\")\n",
    "sns.heatmap(cm, annot=True,fmt='d', cmap='Blues')\n",
    "plt.ylabel(\"Actual Values\")\n",
    "plt.xlabel(\"Predicted Values\")\n",
    "plt.savefig('confusion_matrix.png')"
   ]
  },
  {
   "cell_type": "code",
   "execution_count": 15,
   "id": "6dfc90be",
   "metadata": {},
   "outputs": [
    {
     "name": "stderr",
     "output_type": "stream",
     "text": [
      "C:\\Users\\anjal\\anaconda3\\lib\\site-packages\\sklearn\\metrics\\_ranking.py:990: UndefinedMetricWarning: No negative samples in y_true, false positive value should be meaningless\n",
      "  warnings.warn(\n"
     ]
    },
    {
     "ename": "ValueError",
     "evalue": "All-NaN slice encountered",
     "output_type": "error",
     "traceback": [
      "\u001b[1;31m---------------------------------------------------------------------------\u001b[0m",
      "\u001b[1;31mValueError\u001b[0m                                Traceback (most recent call last)",
      "\u001b[1;32m~\\AppData\\Local\\Temp/ipykernel_16148/1156029422.py\u001b[0m in \u001b[0;36m<module>\u001b[1;34m\u001b[0m\n\u001b[0;32m      9\u001b[0m \u001b[0mfpr\u001b[0m\u001b[1;33m,\u001b[0m \u001b[0mtpr\u001b[0m\u001b[1;33m,\u001b[0m \u001b[0mthreshold\u001b[0m \u001b[1;33m=\u001b[0m \u001b[0mroc_curve\u001b[0m\u001b[1;33m(\u001b[0m\u001b[0my_test\u001b[0m\u001b[1;33m,\u001b[0m\u001b[0my_pred\u001b[0m\u001b[1;33m,\u001b[0m \u001b[0mpos_label\u001b[0m\u001b[1;33m=\u001b[0m\u001b[1;36m1\u001b[0m\u001b[1;33m)\u001b[0m\u001b[1;33m\u001b[0m\u001b[1;33m\u001b[0m\u001b[0m\n\u001b[0;32m     10\u001b[0m \u001b[0mfnr\u001b[0m \u001b[1;33m=\u001b[0m \u001b[1;36m1\u001b[0m \u001b[1;33m-\u001b[0m \u001b[0mtpr\u001b[0m\u001b[1;33m\u001b[0m\u001b[1;33m\u001b[0m\u001b[0m\n\u001b[1;32m---> 11\u001b[1;33m \u001b[0meer_threshold\u001b[0m \u001b[1;33m=\u001b[0m \u001b[0mthreshold\u001b[0m\u001b[1;33m[\u001b[0m\u001b[0mnp\u001b[0m\u001b[1;33m.\u001b[0m\u001b[0mnanargmin\u001b[0m\u001b[1;33m(\u001b[0m\u001b[0mnp\u001b[0m\u001b[1;33m.\u001b[0m\u001b[0mabsolute\u001b[0m\u001b[1;33m(\u001b[0m\u001b[1;33m(\u001b[0m\u001b[0mfnr\u001b[0m \u001b[1;33m-\u001b[0m \u001b[0mfpr\u001b[0m\u001b[1;33m)\u001b[0m\u001b[1;33m)\u001b[0m\u001b[1;33m)\u001b[0m\u001b[1;33m]\u001b[0m\u001b[1;33m\u001b[0m\u001b[1;33m\u001b[0m\u001b[0m\n\u001b[0m\u001b[0;32m     12\u001b[0m \u001b[0mEER\u001b[0m \u001b[1;33m=\u001b[0m \u001b[0mfnr\u001b[0m\u001b[1;33m[\u001b[0m\u001b[0mnp\u001b[0m\u001b[1;33m.\u001b[0m\u001b[0mnanargmin\u001b[0m\u001b[1;33m(\u001b[0m\u001b[0mnp\u001b[0m\u001b[1;33m.\u001b[0m\u001b[0mabsolute\u001b[0m\u001b[1;33m(\u001b[0m\u001b[1;33m(\u001b[0m\u001b[0mfnr\u001b[0m \u001b[1;33m-\u001b[0m \u001b[0mfpr\u001b[0m\u001b[1;33m)\u001b[0m\u001b[1;33m)\u001b[0m\u001b[1;33m)\u001b[0m\u001b[1;33m]\u001b[0m\u001b[1;33m\u001b[0m\u001b[1;33m\u001b[0m\u001b[0m\n\u001b[0;32m     13\u001b[0m \u001b[0mprint\u001b[0m\u001b[1;33m(\u001b[0m\u001b[0meer_threshold\u001b[0m\u001b[1;33m)\u001b[0m\u001b[1;33m\u001b[0m\u001b[1;33m\u001b[0m\u001b[0m\n",
      "\u001b[1;32m<__array_function__ internals>\u001b[0m in \u001b[0;36mnanargmin\u001b[1;34m(*args, **kwargs)\u001b[0m\n",
      "\u001b[1;32m~\\anaconda3\\lib\\site-packages\\numpy\\lib\\nanfunctions.py\u001b[0m in \u001b[0;36mnanargmin\u001b[1;34m(a, axis)\u001b[0m\n\u001b[0;32m    497\u001b[0m         \u001b[0mmask\u001b[0m \u001b[1;33m=\u001b[0m \u001b[0mnp\u001b[0m\u001b[1;33m.\u001b[0m\u001b[0mall\u001b[0m\u001b[1;33m(\u001b[0m\u001b[0mmask\u001b[0m\u001b[1;33m,\u001b[0m \u001b[0maxis\u001b[0m\u001b[1;33m=\u001b[0m\u001b[0maxis\u001b[0m\u001b[1;33m)\u001b[0m\u001b[1;33m\u001b[0m\u001b[1;33m\u001b[0m\u001b[0m\n\u001b[0;32m    498\u001b[0m         \u001b[1;32mif\u001b[0m \u001b[0mnp\u001b[0m\u001b[1;33m.\u001b[0m\u001b[0many\u001b[0m\u001b[1;33m(\u001b[0m\u001b[0mmask\u001b[0m\u001b[1;33m)\u001b[0m\u001b[1;33m:\u001b[0m\u001b[1;33m\u001b[0m\u001b[1;33m\u001b[0m\u001b[0m\n\u001b[1;32m--> 499\u001b[1;33m             \u001b[1;32mraise\u001b[0m \u001b[0mValueError\u001b[0m\u001b[1;33m(\u001b[0m\u001b[1;34m\"All-NaN slice encountered\"\u001b[0m\u001b[1;33m)\u001b[0m\u001b[1;33m\u001b[0m\u001b[1;33m\u001b[0m\u001b[0m\n\u001b[0m\u001b[0;32m    500\u001b[0m     \u001b[1;32mreturn\u001b[0m \u001b[0mres\u001b[0m\u001b[1;33m\u001b[0m\u001b[1;33m\u001b[0m\u001b[0m\n\u001b[0;32m    501\u001b[0m \u001b[1;33m\u001b[0m\u001b[0m\n",
      "\u001b[1;31mValueError\u001b[0m: All-NaN slice encountered"
     ]
    }
   ],
   "source": [
    "from sklearn.metrics import accuracy_score\n",
    "from sklearn.metrics import precision_score\n",
    "from sklearn.metrics import recall_score\n",
    "from sklearn.metrics import f1_score\n",
    "\n",
    "import numpy as np\n",
    "from sklearn.metrics import roc_curve\n",
    "\n",
    "fpr, tpr, threshold = roc_curve(y_test,y_pred, pos_label=1)\n",
    "fnr = 1 - tpr\n",
    "eer_threshold = threshold[np.nanargmin(np.absolute((fnr - fpr)))]\n",
    "EER = fnr[np.nanargmin(np.absolute((fnr - fpr)))]\n",
    "print(eer_threshold)\n",
    "print(\"EER = \", EER)"
   ]
  },
  {
   "cell_type": "code",
   "execution_count": null,
   "id": "89db312a",
   "metadata": {},
   "outputs": [],
   "source": []
  }
 ],
 "metadata": {
  "kernelspec": {
   "display_name": "Python 3 (ipykernel)",
   "language": "python",
   "name": "python3"
  },
  "language_info": {
   "codemirror_mode": {
    "name": "ipython",
    "version": 3
   },
   "file_extension": ".py",
   "mimetype": "text/x-python",
   "name": "python",
   "nbconvert_exporter": "python",
   "pygments_lexer": "ipython3",
   "version": "3.9.7"
  }
 },
 "nbformat": 4,
 "nbformat_minor": 5
}
