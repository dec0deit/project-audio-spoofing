{
 "cells": [
  {
   "cell_type": "code",
   "execution_count": 18,
   "id": "0497c994",
   "metadata": {},
   "outputs": [],
   "source": [
    "import numpy as np\n",
    "import pandas as pd\n",
    "import seaborn as sns\n",
    "import matplotlib.pyplot as plt\n",
    "%matplotlib inline\n",
    "plt.show()"
   ]
  },
  {
   "cell_type": "code",
   "execution_count": 19,
   "id": "2456fdcf",
   "metadata": {},
   "outputs": [],
   "source": [
    "from IPython.core.interactiveshell import InteractiveShell\n",
    "InteractiveShell.ast_node_interactivity=\"all\"\n",
    "from sklearn import svm\n",
    "from sklearn import preprocessing\n",
    "from sklearn import metrics\n",
    "from sklearn.model_selection import train_test_split\n",
    "from sklearn.metrics import roc_curve, auc, recall_score, precision_score, f1_score\n",
    "from sklearn.metrics import confusion_matrix, average_precision_score, recall_score"
   ]
  },
  {
   "cell_type": "code",
   "execution_count": 20,
   "id": "dd9e91e2",
   "metadata": {},
   "outputs": [
    {
     "name": "stdout",
     "output_type": "stream",
     "text": [
      "<class 'pandas.core.frame.DataFrame'>\n",
      "RangeIndex: 7523 entries, 0 to 7522\n",
      "Data columns (total 43 columns):\n",
      " #   Column       Non-Null Count  Dtype  \n",
      "---  ------       --------------  -----  \n",
      " 0   -0.55307     7523 non-null   float64\n",
      " 1   -13.949      7523 non-null   float64\n",
      " 2   7.2276       7523 non-null   float64\n",
      " 3   0.81332      7523 non-null   float64\n",
      " 4   0.81042      7523 non-null   float64\n",
      " 5   0.57891      7523 non-null   float64\n",
      " 6   0.057156     7523 non-null   float64\n",
      " 7   0.30691      7523 non-null   float64\n",
      " 8   -0.28209     7523 non-null   float64\n",
      " 9   0.34901      7523 non-null   float64\n",
      " 10  -0.17654     7523 non-null   float64\n",
      " 11  0.04809      7523 non-null   float64\n",
      " 12  -0.13412     7523 non-null   float64\n",
      " 13  0.061958     7523 non-null   float64\n",
      " 14  -0.0051918   7523 non-null   float64\n",
      " 15  -0.059493    7523 non-null   float64\n",
      " 16  0.021623     7523 non-null   float64\n",
      " 17  0.0066646    7523 non-null   float64\n",
      " 18  0.0037259    7523 non-null   float64\n",
      " 19  0.0046409    7523 non-null   float64\n",
      " 20  0.0012601    7523 non-null   float64\n",
      " 21  0.0027275    7523 non-null   float64\n",
      " 22  0.00016583   7523 non-null   float64\n",
      " 23  0.001464     7523 non-null   float64\n",
      " 24  -0.0004836   7523 non-null   float64\n",
      " 25  0.00042302   7523 non-null   float64\n",
      " 26  -0.00018795  7523 non-null   float64\n",
      " 27  -1.5162e-05  7523 non-null   float64\n",
      " 28  0.00031265   7523 non-null   float64\n",
      " 29  -0.000306    7523 non-null   float64\n",
      " 30  -6.0617e-05  7523 non-null   float64\n",
      " 31  0.00023144   7523 non-null   float64\n",
      " 32  8.534e-05    7523 non-null   float64\n",
      " 33  -1.2757e-05  7523 non-null   float64\n",
      " 34  -1.791e-05   7523 non-null   float64\n",
      " 35  0.00014175   7523 non-null   float64\n",
      " 36  0.00018104   7523 non-null   float64\n",
      " 37  2.7085e-05   7523 non-null   float64\n",
      " 38  1.9801e-05   7523 non-null   float64\n",
      " 39  1.6102e-05   7523 non-null   float64\n",
      " 40  1.5949e-05   7523 non-null   float64\n",
      " 41  -1.783e-05   7523 non-null   float64\n",
      " 42  0            7523 non-null   int64  \n",
      "dtypes: float64(42), int64(1)\n",
      "memory usage: 2.5 MB\n"
     ]
    }
   ],
   "source": [
    "df = pd.read_csv('C:\\\\Users\\\\singl\\\\OneDrive\\\\Documents\\\\MATLAB\\\\frontend\\\\G_TRAIN.csv')\n",
    "df.info()"
   ]
  },
  {
   "cell_type": "code",
   "execution_count": 21,
   "id": "f6c07957",
   "metadata": {},
   "outputs": [],
   "source": [
    "x_train = df.iloc[:, 0:42].values\n",
    "y_train = df.iloc[:,-1].values"
   ]
  },
  {
   "cell_type": "code",
   "execution_count": 22,
   "id": "adb1ba54",
   "metadata": {},
   "outputs": [],
   "source": [
    "y_train=y_train.astype(int)"
   ]
  },
  {
   "cell_type": "code",
   "execution_count": 23,
   "id": "b9a95b62",
   "metadata": {},
   "outputs": [],
   "source": [
    "svm_clf=svm.SVC()"
   ]
  },
  {
   "cell_type": "code",
   "execution_count": 24,
   "id": "3bb731d3",
   "metadata": {
    "scrolled": true
   },
   "outputs": [
    {
     "data": {
      "text/plain": [
       "SVC()"
      ]
     },
     "execution_count": 24,
     "metadata": {},
     "output_type": "execute_result"
    }
   ],
   "source": [
    "svm_clf.fit(x_train,y_train)"
   ]
  },
  {
   "cell_type": "code",
   "execution_count": 25,
   "id": "8a1b0ece",
   "metadata": {},
   "outputs": [],
   "source": [
    "df = pd.read_csv('C:\\\\Users\\\\singl\\\\OneDrive\\\\Documents\\\\MATLAB\\\\frontend\\\\G_TEST.csv')"
   ]
  },
  {
   "cell_type": "code",
   "execution_count": 26,
   "id": "e293d043",
   "metadata": {},
   "outputs": [
    {
     "name": "stdout",
     "output_type": "stream",
     "text": [
      "<class 'pandas.core.frame.DataFrame'>\n",
      "RangeIndex: 5628 entries, 0 to 5627\n",
      "Data columns (total 43 columns):\n",
      " #   Column       Non-Null Count  Dtype  \n",
      "---  ------       --------------  -----  \n",
      " 0   -0.61543     5628 non-null   float64\n",
      " 1   -14.131      5628 non-null   float64\n",
      " 2   7.2227       5628 non-null   float64\n",
      " 3   0.86465      5628 non-null   float64\n",
      " 4   0.82526      5628 non-null   float64\n",
      " 5   0.68033      5628 non-null   float64\n",
      " 6   -0.0077126   5628 non-null   float64\n",
      " 7   0.16853      5628 non-null   float64\n",
      " 8   -0.24033     5628 non-null   float64\n",
      " 9   0.44992      5628 non-null   float64\n",
      " 10  -0.15454     5628 non-null   float64\n",
      " 11  0.032867     5628 non-null   float64\n",
      " 12  -0.10616     5628 non-null   float64\n",
      " 13  0.085554     5628 non-null   float64\n",
      " 14  -0.0052878   5628 non-null   float64\n",
      " 15  -0.059417    5628 non-null   float64\n",
      " 16  0.022089     5628 non-null   float64\n",
      " 17  0.0076177    5628 non-null   float64\n",
      " 18  0.0041761    5628 non-null   float64\n",
      " 19  0.0044006    5628 non-null   float64\n",
      " 20  0.0014369    5628 non-null   float64\n",
      " 21  0.0024351    5628 non-null   float64\n",
      " 22  -0.00082346  5628 non-null   float64\n",
      " 23  0.0011151    5628 non-null   float64\n",
      " 24  -0.00071969  5628 non-null   float64\n",
      " 25  0.00051306   5628 non-null   float64\n",
      " 26  -0.00029175  5628 non-null   float64\n",
      " 27  -0.00012486  5628 non-null   float64\n",
      " 28  0.00058574   5628 non-null   float64\n",
      " 29  0.00021954   5628 non-null   float64\n",
      " 30  0.00018295   5628 non-null   float64\n",
      " 31  5.7226e-05   5628 non-null   float64\n",
      " 32  -1.5089e-05  5628 non-null   float64\n",
      " 33  9.957e-05    5628 non-null   float64\n",
      " 34  0.00010862   5628 non-null   float64\n",
      " 35  7.9155e-05   5628 non-null   float64\n",
      " 36  2.5102e-05   5628 non-null   float64\n",
      " 37  -6.5987e-05  5628 non-null   float64\n",
      " 38  6.4123e-05   5628 non-null   float64\n",
      " 39  1.9451e-05   5628 non-null   float64\n",
      " 40  -7.9717e-05  5628 non-null   float64\n",
      " 41  -4.0829e-05  5628 non-null   float64\n",
      " 42  0            5628 non-null   int64  \n",
      "dtypes: float64(42), int64(1)\n",
      "memory usage: 1.8 MB\n"
     ]
    }
   ],
   "source": [
    "df.info()"
   ]
  },
  {
   "cell_type": "code",
   "execution_count": 27,
   "id": "0600d62a",
   "metadata": {},
   "outputs": [
    {
     "data": {
      "text/plain": [
       "array([0, 0, 0, ..., 2, 2, 2], dtype=int64)"
      ]
     },
     "execution_count": 27,
     "metadata": {},
     "output_type": "execute_result"
    }
   ],
   "source": [
    "x_test = df.iloc[:, 0:42].values\n",
    "y_test = df.iloc[:,-1].values\n",
    "y_test"
   ]
  },
  {
   "cell_type": "code",
   "execution_count": 28,
   "id": "b6ba1c63",
   "metadata": {},
   "outputs": [],
   "source": [
    "# y_test=y.astype(int)\n",
    "# y_test"
   ]
  },
  {
   "cell_type": "code",
   "execution_count": 29,
   "id": "7b8db06c",
   "metadata": {},
   "outputs": [
    {
     "data": {
      "text/plain": [
       "array([2, 2, 2, ..., 0, 1, 1])"
      ]
     },
     "execution_count": 29,
     "metadata": {},
     "output_type": "execute_result"
    }
   ],
   "source": [
    "y_pred=svm_clf.predict(x_test)\n",
    "y_pred"
   ]
  },
  {
   "cell_type": "code",
   "execution_count": 30,
   "id": "4b02b0d1",
   "metadata": {},
   "outputs": [
    {
     "name": "stdout",
     "output_type": "stream",
     "text": [
      "The Accuracy for Test Set is 68.3546552949538\n",
      "              precision    recall  f1-score   support\n",
      "\n",
      "           0       0.51      0.35      0.41       677\n",
      "           1       0.63      0.90      0.74      2474\n",
      "           2       0.84      0.56      0.67      2477\n",
      "\n",
      "    accuracy                           0.68      5628\n",
      "   macro avg       0.66      0.60      0.61      5628\n",
      "weighted avg       0.71      0.68      0.67      5628\n",
      "\n"
     ]
    }
   ],
   "source": [
    "from sklearn.metrics import accuracy_score\n",
    "from sklearn.metrics import classification_report\n",
    "test_acc = accuracy_score(y_test, y_pred)\n",
    "print(\"The Accuracy for Test Set is {}\".format(test_acc*100))\n",
    "print(classification_report(y_test, y_pred))"
   ]
  },
  {
   "cell_type": "code",
   "execution_count": 31,
   "id": "75e507da",
   "metadata": {},
   "outputs": [
    {
     "data": {
      "text/plain": [
       "<Figure size 864x432 with 0 Axes>"
      ]
     },
     "execution_count": 31,
     "metadata": {},
     "output_type": "execute_result"
    },
    {
     "data": {
      "text/plain": [
       "Text(0.5, 1.0, 'Confusion Matrix')"
      ]
     },
     "execution_count": 31,
     "metadata": {},
     "output_type": "execute_result"
    },
    {
     "data": {
      "text/plain": [
       "<AxesSubplot:title={'center':'Confusion Matrix'}>"
      ]
     },
     "execution_count": 31,
     "metadata": {},
     "output_type": "execute_result"
    },
    {
     "data": {
      "text/plain": [
       "Text(87.0, 0.5, 'Actual Values')"
      ]
     },
     "execution_count": 31,
     "metadata": {},
     "output_type": "execute_result"
    },
    {
     "data": {
      "text/plain": [
       "Text(0.5, 33.0, 'Predicted Values')"
      ]
     },
     "execution_count": 31,
     "metadata": {},
     "output_type": "execute_result"
    },
    {
     "data": {
      "image/png": "[encoded data removed]",
      "text/plain": [
       "<Figure size 864x432 with 2 Axes>"
      ]
     },
     "metadata": {
      "needs_background": "light"
     },
     "output_type": "display_data"
    }
   ],
   "source": [
    "cm=confusion_matrix(y_test,y_pred)\n",
    "plt.figure(figsize=(12,6))\n",
    "plt.title(\"Confusion Matrix\")\n",
    "sns.heatmap(cm, annot=True,fmt='d', cmap='Blues')\n",
    "plt.ylabel(\"Actual Values\")\n",
    "plt.xlabel(\"Predicted Values\")\n",
    "plt.savefig('confusion_matrix.png')"
   ]
  },
  {
   "cell_type": "code",
   "execution_count": 32,
   "id": "6dfc90be",
   "metadata": {},
   "outputs": [
    {
     "name": "stdout",
     "output_type": "stream",
     "text": [
      "2\n",
      "EER =  0.9256265157639451\n"
     ]
    }
   ],
   "source": [
    "from sklearn.metrics import accuracy_score\n",
    "from sklearn.metrics import precision_score\n",
    "from sklearn.metrics import recall_score\n",
    "from sklearn.metrics import f1_score\n",
    "\n",
    "import numpy as np\n",
    "from sklearn.metrics import roc_curve\n",
    "\n",
    "fpr, tpr, threshold = roc_curve(y_test,y_pred, pos_label=1)\n",
    "fnr = 1 - tpr\n",
    "eer_threshold = threshold[np.nanargmin(np.absolute((fnr - fpr)))]\n",
    "EER = fnr[np.nanargmin(np.absolute((fnr - fpr)))]\n",
    "print(eer_threshold)\n",
    "print(\"EER = \", EER)"
   ]
  },
  {
   "cell_type": "code",
   "execution_count": null,
   "id": "89db312a",
   "metadata": {},
   "outputs": [],
   "source": []
  }
 ],
 "metadata": {
  "kernelspec": {
   "display_name": "Python 3 (ipykernel)",
   "language": "python",
   "name": "python3"
  },
  "language_info": {
   "codemirror_mode": {
    "name": "ipython",
    "version": 3
   },
   "file_extension": ".py",
   "mimetype": "text/x-python",
   "name": "python",
   "nbconvert_exporter": "python",
   "pygments_lexer": "ipython3",
   "version": "3.9.7"
  }
 },
 "nbformat": 4,
 "nbformat_minor": 5
}
