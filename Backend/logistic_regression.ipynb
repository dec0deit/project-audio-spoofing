{
 "cells": [
  {
   "cell_type": "code",
   "execution_count": 1,
   "id": "41f1d09d",
   "metadata": {},
   "outputs": [],
   "source": [
    "import pandas as pd\n",
    "\n",
    "from sklearn.model_selection import train_test_split\n",
    "\n",
    "from sklearn.linear_model import LogisticRegression\n",
    "\n",
    "from sklearn import preprocessing\n",
    "\n",
    "from sklearn.metrics import accuracy_score, classification_report, confusion_matrix\n",
    "\n",
    "from matplotlib import pyplot as plt\n",
    "\n",
    "import seaborn as sns\n"
   ]
  },
  {
   "cell_type": "code",
   "execution_count": 25,
   "id": "2b829826",
   "metadata": {},
   "outputs": [],
   "source": [
    "df = pd.read_csv('C:\\\\Users\\\\anjal\\\\Desktop\\\\audio spoofing my tests\\\\M_TRAIN.csv')"
   ]
  },
  {
   "cell_type": "code",
   "execution_count": 20,
   "id": "cd91ae64",
   "metadata": {
    "scrolled": true
   },
   "outputs": [
    {
     "name": "stdout",
     "output_type": "stream",
     "text": [
      "<class 'pandas.core.frame.DataFrame'>\n",
      "RangeIndex: 7661 entries, 0 to 7660\n",
      "Data columns (total 43 columns):\n",
      " #   Column       Non-Null Count  Dtype  \n",
      "---  ------       --------------  -----  \n",
      " 0   -0.55307     7661 non-null   float64\n",
      " 1   -15.772      7661 non-null   float64\n",
      " 2   3.4207       7661 non-null   float64\n",
      " 3   0.33526      7661 non-null   float64\n",
      " 4   0.89613      7661 non-null   float64\n",
      " 5   0.088091     7661 non-null   float64\n",
      " 6   0.41567      7661 non-null   float64\n",
      " 7   0.1267       7661 non-null   float64\n",
      " 8   0.13255      7661 non-null   float64\n",
      " 9   0.33759      7661 non-null   float64\n",
      " 10  0.02388      7661 non-null   float64\n",
      " 11  0.14724      7661 non-null   float64\n",
      " 12  -0.012345    7661 non-null   float64\n",
      " 13  0.065987     7661 non-null   float64\n",
      " 14  -0.0051918   7661 non-null   float64\n",
      " 15  -0.0681      7661 non-null   float64\n",
      " 16  0.0098545    7661 non-null   float64\n",
      " 17  0.0016494    7661 non-null   float64\n",
      " 18  0.0024727    7661 non-null   float64\n",
      " 19  0.0012828    7661 non-null   float64\n",
      " 20  0.0017892    7661 non-null   float64\n",
      " 21  0.0010322    7661 non-null   float64\n",
      " 22  0.001355     7661 non-null   float64\n",
      " 23  0.0012152    7661 non-null   float64\n",
      " 24  0.0010131    7661 non-null   float64\n",
      " 25  0.0011177    7661 non-null   float64\n",
      " 26  0.0010352    7661 non-null   float64\n",
      " 27  0.00035182   7661 non-null   float64\n",
      " 28  0.00031265   7661 non-null   float64\n",
      " 29  -0.00050906  7661 non-null   float64\n",
      " 30  4.81e-05     7661 non-null   float64\n",
      " 31  0.00013754   7661 non-null   float64\n",
      " 32  -0.00027018  7661 non-null   float64\n",
      " 33  2.4793e-05   7661 non-null   float64\n",
      " 34  -2.572e-05   7661 non-null   float64\n",
      " 35  2.7463e-05   7661 non-null   float64\n",
      " 36  -0.00010205  7661 non-null   float64\n",
      " 37  6.3365e-05   7661 non-null   float64\n",
      " 38  0.00011715   7661 non-null   float64\n",
      " 39  8.8406e-05   7661 non-null   float64\n",
      " 40  0.00023632   7661 non-null   float64\n",
      " 41  6.1803e-05   7661 non-null   float64\n",
      " 42  0            7661 non-null   int64  \n",
      "dtypes: float64(42), int64(1)\n",
      "memory usage: 2.5 MB\n"
     ]
    }
   ],
   "source": [
    "df.info()\n"
   ]
  },
  {
   "cell_type": "code",
   "execution_count": 26,
   "id": "19b0eae0",
   "metadata": {},
   "outputs": [],
   "source": [
    "X = df.iloc[:, 0:42].values\n",
    "y = df.iloc[:,-1].values"
   ]
  },
  {
   "cell_type": "code",
   "execution_count": 27,
   "id": "916bb8a2",
   "metadata": {},
   "outputs": [],
   "source": [
    "y=y.astype(int)"
   ]
  },
  {
   "cell_type": "code",
   "execution_count": 30,
   "id": "24a2ef91",
   "metadata": {},
   "outputs": [],
   "source": [
    "scaler = preprocessing.StandardScaler().fit(X)\n",
    "X_scaled = scaler.transform(X)"
   ]
  },
  {
   "cell_type": "code",
   "execution_count": 31,
   "id": "d50a8317",
   "metadata": {},
   "outputs": [],
   "source": [
    "model = LogisticRegression()"
   ]
  },
  {
   "cell_type": "code",
   "execution_count": 32,
   "id": "a606e1eb",
   "metadata": {},
   "outputs": [
    {
     "data": {
      "text/plain": [
       "LogisticRegression()"
      ]
     },
     "execution_count": 32,
     "metadata": {},
     "output_type": "execute_result"
    }
   ],
   "source": [
    "model.fit(X_scaled, y)"
   ]
  },
  {
   "cell_type": "code",
   "execution_count": 33,
   "id": "8f7406d5",
   "metadata": {},
   "outputs": [
    {
     "name": "stdout",
     "output_type": "stream",
     "text": [
      "The Accuracy for Training Set is 99.97389374755254\n"
     ]
    }
   ],
   "source": [
    "train_acc = model.score(X_scaled, y)\n",
    "print(\"The Accuracy for Training Set is {}\".format(train_acc*100))"
   ]
  },
  {
   "cell_type": "code",
   "execution_count": null,
   "id": "de786267",
   "metadata": {},
   "outputs": [],
   "source": []
  }
 ],
 "metadata": {
  "kernelspec": {
   "display_name": "Python 3 (ipykernel)",
   "language": "python",
   "name": "python3"
  },
  "language_info": {
   "codemirror_mode": {
    "name": "ipython",
    "version": 3
   },
   "file_extension": ".py",
   "mimetype": "text/x-python",
   "name": "python",
   "nbconvert_exporter": "python",
   "pygments_lexer": "ipython3",
   "version": "3.9.7"
  }
 },
 "nbformat": 4,
 "nbformat_minor": 5
}
