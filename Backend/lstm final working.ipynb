{
 "cells": [
  {
   "cell_type": "code",
   "execution_count": null,
   "id": "82b4a227",
   "metadata": {},
   "outputs": [],
   "source": [
    "from tensorflow.keras.models import Sequential\n",
    "from tensorflow.keras.layers import BatchNormalization,Conv2D,MaxPooling2D,Activation,Dropout,Dense,Flatten,Input,Bidirectional,LSTM,MaxPool2D\n",
    "from tensorflow.keras.models import Model\n",
    "from keras.callbacks import EarlyStopping,ModelCheckpoint\n",
    "from tensorflow.keras.layers import concatenate\n",
    "from sklearn.model_selection import train_test_split\n",
    "from scipy.optimize import brentq\n",
    "from scipy.interpolate import interp1d\n",
    "from sklearn.metrics import confusion_matrix, accuracy_score, roc_curve, balanced_accuracy_score, classification_report\n",
    "import keras\n",
    "import tensorflow as tf\n",
    "from keras.layers import Dense, SimpleRNN, LSTM, TimeDistributed, Flatten, Dropout, BatchNormalization\n",
    "import matplotlib.pyplot as plt\n",
    "import seaborn as sns\n",
    "%matplotlib inline\n",
    "plt.show()"
   ]
  },
  {
   "cell_type": "code",
   "execution_count": null,
   "id": "6b7b3575",
   "metadata": {},
   "outputs": [],
   "source": [
    "import pandas as pd\n",
    "df=pd.read_csv('C:\\\\Users\\\\anjal\\\\Desktop\\\\project-audio-spoofing\\\\frontend\\\\M_TRAIN_LA19.csv')\n",
    "df"
   ]
  },
  {
   "cell_type": "code",
   "execution_count": null,
   "id": "630ee8e0",
   "metadata": {},
   "outputs": [],
   "source": [
    "X = df.iloc[:, 0:43].values\n",
    "y = df.iloc[:,-1].values"
   ]
  },
  {
   "cell_type": "code",
   "execution_count": null,
   "id": "b90d6a0f",
   "metadata": {},
   "outputs": [],
   "source": [
    "from imblearn.over_sampling import SMOTE\n",
    "oversample = SMOTE()\n",
    "X, y = oversample.fit_resample(X, y)"
   ]
  },
  {
   "cell_type": "code",
   "execution_count": null,
   "id": "1510f7e0",
   "metadata": {},
   "outputs": [],
   "source": [
    "y=y.astype(int)"
   ]
  },
  {
   "cell_type": "code",
   "execution_count": null,
   "id": "a8a81ed1",
   "metadata": {},
   "outputs": [],
   "source": [
    "X.shape"
   ]
  },
  {
   "cell_type": "code",
   "execution_count": null,
   "id": "c9d719c6",
   "metadata": {},
   "outputs": [],
   "source": [
    "#from sklearn.model_selection import train_test_split\n",
    "\n",
    "#X_train, X_test, y_train, y_test = train_test_split(X, y, test_size=0.33, random_state=42)"
   ]
  },
  {
   "cell_type": "code",
   "execution_count": null,
   "id": "dc4af1ba",
   "metadata": {},
   "outputs": [],
   "source": [
    "X=X.reshape(10242,43,1)"
   ]
  },
  {
   "cell_type": "code",
   "execution_count": 10,
   "id": "25b697b1",
   "metadata": {},
   "outputs": [],
   "source": [
    "import numpy as np\n",
    "#X_train = np.reshape(X_train, (X_train.shape[0], X_train.shape[1], 1))"
   ]
  },
  {
   "cell_type": "code",
   "execution_count": 11,
   "id": "110d684a",
   "metadata": {},
   "outputs": [],
   "source": [
    "#X_test = np.reshape(X_test, (X_test.shape[0], X_test.shape[1], 1))"
   ]
  },
  {
   "cell_type": "code",
   "execution_count": null,
   "id": "91e4451b",
   "metadata": {},
   "outputs": [
    {
     "name": "stdout",
     "output_type": "stream",
     "text": [
      "Epoch 1/50\n",
      "965/965 [==============================] - 37s 30ms/step - loss: 0.1546 - accuracy: 0.7681\n",
      "Epoch 2/50\n",
      "965/965 [==============================] - 33s 34ms/step - loss: 0.0057 - accuracy: 0.9999\n",
      "Epoch 3/50\n",
      "965/965 [==============================] - 33s 34ms/step - loss: 0.0030 - accuracy: 1.0000\n",
      "Epoch 4/50\n",
      "965/965 [==============================] - 34s 35ms/step - loss: 0.0027 - accuracy: 1.0000\n",
      "Epoch 5/50\n",
      "965/965 [==============================] - 35s 36ms/step - loss: 0.0024 - accuracy: 1.0000\n",
      "Epoch 6/50\n",
      "965/965 [==============================] - 35s 36ms/step - loss: 0.0021 - accuracy: 1.0000\n",
      "Epoch 7/50\n",
      "965/965 [==============================] - 37s 38ms/step - loss: 0.0020 - accuracy: 1.0000\n",
      "Epoch 8/50\n",
      "965/965 [==============================] - 38s 40ms/step - loss: 0.0019 - accuracy: 1.0000\n",
      "Epoch 9/50\n",
      "965/965 [==============================] - 38s 39ms/step - loss: 0.0018 - accuracy: 1.0000\n",
      "Epoch 10/50\n",
      "965/965 [==============================] - 37s 38ms/step - loss: 0.0017 - accuracy: 1.0000\n",
      "Epoch 11/50\n",
      "965/965 [==============================] - 39s 40ms/step - loss: 0.0016 - accuracy: 1.0000\n",
      "Epoch 12/50\n",
      "965/965 [==============================] - 41s 43ms/step - loss: 0.0016 - accuracy: 1.0000\n",
      "Epoch 13/50\n",
      "965/965 [==============================] - 47s 49ms/step - loss: 0.0015 - accuracy: 1.0000\n",
      "Epoch 14/50\n",
      "965/965 [==============================] - 47s 49ms/step - loss: 0.0015 - accuracy: 1.0000\n",
      "Epoch 15/50\n",
      "965/965 [==============================] - 48s 50ms/step - loss: 0.0015 - accuracy: 1.0000\n",
      "Epoch 16/50\n",
      "965/965 [==============================] - 44s 46ms/step - loss: 0.0015 - accuracy: 1.0000\n",
      "Epoch 17/50\n",
      "965/965 [==============================] - 44s 46ms/step - loss: 0.0014 - accuracy: 1.0000\n",
      "Epoch 18/50\n",
      "965/965 [==============================] - 44s 45ms/step - loss: 0.0015 - accuracy: 1.0000\n",
      "Epoch 19/50\n",
      "965/965 [==============================] - 45s 46ms/step - loss: 0.0014 - accuracy: 1.0000\n",
      "Epoch 20/50\n",
      "965/965 [==============================] - 45s 47ms/step - loss: 0.0015 - accuracy: 1.0000\n",
      "Epoch 21/50\n",
      "965/965 [==============================] - 45s 46ms/step - loss: 0.0015 - accuracy: 1.0000\n",
      "Epoch 22/50\n",
      "965/965 [==============================] - 45s 46ms/step - loss: 0.0014 - accuracy: 1.0000\n",
      "Epoch 23/50\n",
      "965/965 [==============================] - 43s 45ms/step - loss: 0.0014 - accuracy: 1.0000\n",
      "Epoch 24/50\n",
      "965/965 [==============================] - 44s 45ms/step - loss: 0.0014 - accuracy: 1.0000\n",
      "Epoch 25/50\n",
      "965/965 [==============================] - 44s 45ms/step - loss: 0.0014 - accuracy: 1.0000\n",
      "Epoch 26/50\n",
      "965/965 [==============================] - 45s 47ms/step - loss: 0.0014 - accuracy: 1.0000\n",
      "Epoch 27/50\n",
      "965/965 [==============================] - 46s 48ms/step - loss: 0.0014 - accuracy: 1.0000\n",
      "Epoch 28/50\n",
      "965/965 [==============================] - 45s 46ms/step - loss: 0.0014 - accuracy: 1.0000\n",
      "Epoch 29/50\n",
      "965/965 [==============================] - 45s 47ms/step - loss: 0.0014 - accuracy: 1.0000\n",
      "Epoch 30/50\n",
      "965/965 [==============================] - 44s 46ms/step - loss: 0.0016 - accuracy: 0.9999\n",
      "Epoch 31/50\n",
      "965/965 [==============================] - 48s 49ms/step - loss: 0.0013 - accuracy: 1.0000\n",
      "Epoch 32/50\n",
      "965/965 [==============================] - 46s 48ms/step - loss: 0.0013 - accuracy: 1.0000\n",
      "Epoch 33/50\n",
      "965/965 [==============================] - 44s 45ms/step - loss: 0.0013 - accuracy: 1.0000\n",
      "Epoch 34/50\n",
      "965/965 [==============================] - 44s 46ms/step - loss: 0.0014 - accuracy: 1.0000\n",
      "Epoch 35/50\n",
      "582/965 [=================>............] - ETA: 17s - loss: 0.0013 - accuracy: 1.0000"
     ]
    }
   ],
   "source": [
    "regressor = keras.models.Sequential()\n",
    "\n",
    "regressor.add(LSTM(units = 50, return_sequences = True, input_shape = (43, 1)))\n",
    "\n",
    "#regressor.add(LSTM(units = 50, return_sequences = True, input_shape = (67, 1)))\n",
    "\n",
    "regressor.add(Dropout(0.2))\n",
    "\n",
    "regressor.add(LSTM(units = 50, return_sequences = True))\n",
    "regressor.add(Dropout(0.2))\n",
    "\n",
    "regressor.add(LSTM(units = 50, return_sequences = True))\n",
    "regressor.add(Dropout(0.2))\n",
    "\n",
    "regressor.add(LSTM(units = 50))\n",
    "regressor.add(Dropout(0.2))\n",
    "\n",
    "regressor.add(Dense(units = 1))\n",
    "\n",
    "regressor.compile(optimizer = 'adam', loss = 'mean_squared_error',metrics=['accuracy'])\n",
    "\n",
    "#regressor.fit(X_train, y_train, validation_data= (X_test,y_test),epochs = 50, batch_size = 32)\n",
    "regressor.fit(X, y, epochs = 50, batch_size = 10)\n",
    "\n",
    "\n"
   ]
  },
  {
   "cell_type": "code",
   "execution_count": 37,
   "id": "3ed38afa",
   "metadata": {},
   "outputs": [],
   "source": [
    "import pandas as pd\n",
    "dtf=pd.read_csv('C:\\\\Users\\\\anjal\\\\Desktop\\\\project-audio-spoofing\\\\frontend\\\\M_TEST_LA19.csv')\n",
    "dtf\n",
    "Xt = dtf.iloc[:, 0:43].values\n",
    "\n",
    "yt = dtf.iloc[:,-1].values"
   ]
  },
  {
   "cell_type": "code",
   "execution_count": 38,
   "id": "45e8d046",
   "metadata": {},
   "outputs": [],
   "source": [
    "import numpy as np\n",
    "Xt = np.reshape(Xt, (Xt.shape[0], Xt.shape[1], 1))"
   ]
  },
  {
   "cell_type": "code",
   "execution_count": 39,
   "id": "76ea380f",
   "metadata": {},
   "outputs": [],
   "source": [
    "# predict_x=regressor.predict(Xt) \n",
    "\n",
    "# classes_x=np.argmax(predict_x,axis=1)\n",
    "prediction1=regressor.predict(Xt)\n",
    "prediction1=regressor.predict((Xt) > 0.5).astype(\"int32\")"
   ]
  },
  {
   "cell_type": "code",
   "execution_count": 40,
   "id": "f39c92df",
   "metadata": {},
   "outputs": [
    {
     "name": "stdout",
     "output_type": "stream",
     "text": [
      "171/171 [==============================] - 4s 15ms/step - loss: 3.2958e-04 - accuracy: 0.5463\n",
      "accuracy: 54.63%\n"
     ]
    }
   ],
   "source": [
    "score=regressor.evaluate(Xt, yt)\n",
    "print(\"%s: %.2f%%\" % (regressor.metrics_names[1], score[1]*100))\n"
   ]
  },
  {
   "cell_type": "code",
   "execution_count": 44,
   "id": "d1888512",
   "metadata": {},
   "outputs": [
    {
     "name": "stdout",
     "output_type": "stream",
     "text": [
      "The Accuracy for Test Set is 9.322344322344323\n",
      "              precision    recall  f1-score   support\n",
      "\n",
      "           0       0.09      1.00      0.17       509\n",
      "           1       0.00      0.00      0.00      2474\n",
      "           2       0.00      0.00      0.00      2477\n",
      "\n",
      "    accuracy                           0.09      5460\n",
      "   macro avg       0.03      0.33      0.06      5460\n",
      "weighted avg       0.01      0.09      0.02      5460\n",
      "\n"
     ]
    },
    {
     "name": "stderr",
     "output_type": "stream",
     "text": [
      "C:\\Users\\anjal\\anaconda3\\lib\\site-packages\\sklearn\\metrics\\_classification.py:1318: UndefinedMetricWarning: Precision and F-score are ill-defined and being set to 0.0 in labels with no predicted samples. Use `zero_division` parameter to control this behavior.\n",
      "  _warn_prf(average, modifier, msg_start, len(result))\n",
      "C:\\Users\\anjal\\anaconda3\\lib\\site-packages\\sklearn\\metrics\\_classification.py:1318: UndefinedMetricWarning: Precision and F-score are ill-defined and being set to 0.0 in labels with no predicted samples. Use `zero_division` parameter to control this behavior.\n",
      "  _warn_prf(average, modifier, msg_start, len(result))\n",
      "C:\\Users\\anjal\\anaconda3\\lib\\site-packages\\sklearn\\metrics\\_classification.py:1318: UndefinedMetricWarning: Precision and F-score are ill-defined and being set to 0.0 in labels with no predicted samples. Use `zero_division` parameter to control this behavior.\n",
      "  _warn_prf(average, modifier, msg_start, len(result))\n"
     ]
    }
   ],
   "source": [
    "# from sklearn.metrics import accuracy_score\n",
    "# from sklearn.metrics import precision_score\n",
    "# from sklearn.metrics import recall_score\n",
    "# from sklearn.metrics import f1_score\n",
    "\n",
    "# import numpy as np\n",
    "# from sklearn.metrics import roc_curve\n",
    "\n",
    "# results=confusion_matrix(yt, prediction1)\n",
    "# print(\"confusion matrix\", results)\n",
    "\n",
    "# accuracy = accuracy_score(yt, prediction1)\n",
    "# print('Accuracy: %f' % accuracy)\n",
    "\n",
    "# precision = precision_score(yt, prediction1)\n",
    "# print('Precision: %f' % precision)\n",
    "# # recall: tp / (tp + fn)\n",
    "# recall = recall_score(yt, prediction1)\n",
    "# print('Recall: %f' % recall)\n",
    "# # f1: 2 tp / (2 tp + fp + fn)\n",
    "# f1 = f1_score(yt, prediction1)\n",
    "# print('F1 score: %f' % f1)\n",
    "\n",
    "# fpr, tpr, threshold = roc_curve(yt,prediction1, pos_label=1)\n",
    "# fnr = 1 - tpr\n",
    "# eer_threshold = threshold[np.nanargmin(np.absolute((fnr - fpr)))]\n",
    "# EER = fnr[np.nanargmin(np.absolute((fnr - fpr)))]\n",
    "# print(eer_threshold)\n",
    "# print(\"EER = \", EER)\n",
    "\n",
    "from sklearn.metrics import accuracy_score\n",
    "test_acc = accuracy_score(yt, prediction1)\n",
    "print(\"The Accuracy for Test Set is {}\".format(test_acc*100))\n",
    "print(classification_report(yt, prediction1))\n",
    "\n",
    "\n",
    "\n"
   ]
  },
  {
   "cell_type": "code",
   "execution_count": 49,
   "id": "90a2b8dc",
   "metadata": {},
   "outputs": [
    {
     "data": {
      "image/png": "[encoded data removed]",
      "text/plain": [
       "<Figure size 864x432 with 2 Axes>"
      ]
     },
     "metadata": {
      "needs_background": "light"
     },
     "output_type": "display_data"
    }
   ],
   "source": [
    "cm=confusion_matrix(yt, prediction1)\n",
    "plt.figure(figsize=(12,6))\n",
    "plt.title(\"Confusion Matrix\")\n",
    "sns.heatmap(cm, annot=True,fmt='d', cmap='Blues')\n",
    "plt.ylabel(\"Actual Values\")\n",
    "plt.xlabel(\"Predicted Values\")\n",
    "plt.savefig('confusion_matrix.png')"
   ]
  },
  {
   "cell_type": "code",
   "execution_count": 51,
   "id": "4f3948af",
   "metadata": {},
   "outputs": [
    {
     "name": "stdout",
     "output_type": "stream",
     "text": [
      "1\n",
      "EER =  1.0\n"
     ]
    }
   ],
   "source": [
    "from sklearn.metrics import accuracy_score\n",
    "from sklearn.metrics import precision_score\n",
    "from sklearn.metrics import recall_score\n",
    "from sklearn.metrics import f1_score\n",
    "\n",
    "import numpy as np\n",
    "from sklearn.metrics import roc_curve\n",
    "\n",
    "fpr, tpr, threshold = roc_curve(yt, prediction1, pos_label=1)\n",
    "fnr = 1 - tpr\n",
    "eer_threshold = threshold[np.nanargmin(np.absolute((fnr - fpr)))]\n",
    "EER = fnr[np.nanargmin(np.absolute((fnr - fpr)))]\n",
    "print(eer_threshold)\n",
    "print(\"EER = \", EER)"
   ]
  },
  {
   "cell_type": "code",
   "execution_count": null,
   "id": "cace1a1b",
   "metadata": {},
   "outputs": [],
   "source": []
  }
 ],
 "metadata": {
  "kernelspec": {
   "display_name": "Python 3 (ipykernel)",
   "language": "python",
   "name": "python3"
  },
  "language_info": {
   "codemirror_mode": {
    "name": "ipython",
    "version": 3
   },
   "file_extension": ".py",
   "mimetype": "text/x-python",
   "name": "python",
   "nbconvert_exporter": "python",
   "pygments_lexer": "ipython3",
   "version": "3.9.7"
  }
 },
 "nbformat": 4,
 "nbformat_minor": 5
}
