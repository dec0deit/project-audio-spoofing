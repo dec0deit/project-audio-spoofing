{
 "cells": [
  {
   "cell_type": "code",
   "execution_count": 18,
   "id": "41f1d09d",
   "metadata": {},
   "outputs": [],
   "source": [
    "import pandas as pd\n",
    "from sklearn.model_selection import train_test_split\n",
    "from sklearn.linear_model import LogisticRegression\n",
    "from sklearn import preprocessing\n",
    "from sklearn.metrics import accuracy_score, classification_report, confusion_matrix\n",
    "from matplotlib import pyplot as plt\n",
    "import seaborn as sns\n"
   ]
  },
  {
   "cell_type": "code",
   "execution_count": 19,
   "id": "2b829826",
   "metadata": {},
   "outputs": [],
   "source": [
    "df = pd.read_csv('C:\\\\Users\\\\singl\\\\OneDrive\\\\Documents\\\\MATLAB\\\\frontend\\\\G_TRAIN.csv')"
   ]
  },
  {
   "cell_type": "code",
   "execution_count": 20,
   "id": "cd91ae64",
   "metadata": {
    "scrolled": true
   },
   "outputs": [
    {
     "name": "stdout",
     "output_type": "stream",
     "text": [
      "<class 'pandas.core.frame.DataFrame'>\n",
      "RangeIndex: 7523 entries, 0 to 7522\n",
      "Data columns (total 43 columns):\n",
      " #   Column       Non-Null Count  Dtype  \n",
      "---  ------       --------------  -----  \n",
      " 0   -0.55307     7523 non-null   float64\n",
      " 1   -13.949      7523 non-null   float64\n",
      " 2   7.2276       7523 non-null   float64\n",
      " 3   0.81332      7523 non-null   float64\n",
      " 4   0.81042      7523 non-null   float64\n",
      " 5   0.57891      7523 non-null   float64\n",
      " 6   0.057156     7523 non-null   float64\n",
      " 7   0.30691      7523 non-null   float64\n",
      " 8   -0.28209     7523 non-null   float64\n",
      " 9   0.34901      7523 non-null   float64\n",
      " 10  -0.17654     7523 non-null   float64\n",
      " 11  0.04809      7523 non-null   float64\n",
      " 12  -0.13412     7523 non-null   float64\n",
      " 13  0.061958     7523 non-null   float64\n",
      " 14  -0.0051918   7523 non-null   float64\n",
      " 15  -0.059493    7523 non-null   float64\n",
      " 16  0.021623     7523 non-null   float64\n",
      " 17  0.0066646    7523 non-null   float64\n",
      " 18  0.0037259    7523 non-null   float64\n",
      " 19  0.0046409    7523 non-null   float64\n",
      " 20  0.0012601    7523 non-null   float64\n",
      " 21  0.0027275    7523 non-null   float64\n",
      " 22  0.00016583   7523 non-null   float64\n",
      " 23  0.001464     7523 non-null   float64\n",
      " 24  -0.0004836   7523 non-null   float64\n",
      " 25  0.00042302   7523 non-null   float64\n",
      " 26  -0.00018795  7523 non-null   float64\n",
      " 27  -1.5162e-05  7523 non-null   float64\n",
      " 28  0.00031265   7523 non-null   float64\n",
      " 29  -0.000306    7523 non-null   float64\n",
      " 30  -6.0617e-05  7523 non-null   float64\n",
      " 31  0.00023144   7523 non-null   float64\n",
      " 32  8.534e-05    7523 non-null   float64\n",
      " 33  -1.2757e-05  7523 non-null   float64\n",
      " 34  -1.791e-05   7523 non-null   float64\n",
      " 35  0.00014175   7523 non-null   float64\n",
      " 36  0.00018104   7523 non-null   float64\n",
      " 37  2.7085e-05   7523 non-null   float64\n",
      " 38  1.9801e-05   7523 non-null   float64\n",
      " 39  1.6102e-05   7523 non-null   float64\n",
      " 40  1.5949e-05   7523 non-null   float64\n",
      " 41  -1.783e-05   7523 non-null   float64\n",
      " 42  0            7523 non-null   int64  \n",
      "dtypes: float64(42), int64(1)\n",
      "memory usage: 2.5 MB\n"
     ]
    }
   ],
   "source": [
    "df.info()\n"
   ]
  },
  {
   "cell_type": "code",
   "execution_count": 21,
   "id": "19b0eae0",
   "metadata": {},
   "outputs": [],
   "source": [
    "X = df.iloc[:, 0:42].values\n",
    "y = df.iloc[:,-1].values"
   ]
  },
  {
   "cell_type": "code",
   "execution_count": 22,
   "id": "916bb8a2",
   "metadata": {},
   "outputs": [],
   "source": [
    "y=y.astype(int)"
   ]
  },
  {
   "cell_type": "code",
   "execution_count": 23,
   "id": "24a2ef91",
   "metadata": {},
   "outputs": [],
   "source": [
    "scaler = preprocessing.StandardScaler().fit(X)\n",
    "X_scaled = scaler.transform(X)"
   ]
  },
  {
   "cell_type": "code",
   "execution_count": 24,
   "id": "d50a8317",
   "metadata": {},
   "outputs": [],
   "source": [
    "model = LogisticRegression()"
   ]
  },
  {
   "cell_type": "code",
   "execution_count": 25,
   "id": "a606e1eb",
   "metadata": {},
   "outputs": [
    {
     "name": "stderr",
     "output_type": "stream",
     "text": [
      "C:\\Users\\singl\\anaconda3\\lib\\site-packages\\sklearn\\linear_model\\_logistic.py:814: ConvergenceWarning: lbfgs failed to converge (status=1):\n",
      "STOP: TOTAL NO. of ITERATIONS REACHED LIMIT.\n",
      "\n",
      "Increase the number of iterations (max_iter) or scale the data as shown in:\n",
      "    https://scikit-learn.org/stable/modules/preprocessing.html\n",
      "Please also refer to the documentation for alternative solver options:\n",
      "    https://scikit-learn.org/stable/modules/linear_model.html#logistic-regression\n",
      "  n_iter_i = _check_optimize_result(\n"
     ]
    },
    {
     "data": {
      "text/plain": [
       "LogisticRegression()"
      ]
     },
     "execution_count": 25,
     "metadata": {},
     "output_type": "execute_result"
    }
   ],
   "source": [
    "model.fit(X_scaled, y)"
   ]
  },
  {
   "cell_type": "code",
   "execution_count": 26,
   "id": "8f7406d5",
   "metadata": {},
   "outputs": [
    {
     "name": "stdout",
     "output_type": "stream",
     "text": [
      "The Accuracy for Training Set is 90.96105277150073\n"
     ]
    }
   ],
   "source": [
    "train_acc = model.score(X_scaled, y)\n",
    "print(\"The Accuracy for Training Set is {}\".format(train_acc*100))"
   ]
  },
  {
   "cell_type": "code",
   "execution_count": 27,
   "id": "de786267",
   "metadata": {},
   "outputs": [],
   "source": [
    "df = pd.read_csv('C:\\\\Users\\\\singl \\\n",
    "                 \\\\OneDrive\\\\Documents\\\\MATLAB\\\\frontend\\\\G_TEST.csv')"
   ]
  },
  {
   "cell_type": "code",
   "execution_count": 28,
   "id": "1433dc8b",
   "metadata": {},
   "outputs": [
    {
     "name": "stdout",
     "output_type": "stream",
     "text": [
      "<class 'pandas.core.frame.DataFrame'>\n",
      "RangeIndex: 5628 entries, 0 to 5627\n",
      "Data columns (total 43 columns):\n",
      " #   Column       Non-Null Count  Dtype  \n",
      "---  ------       --------------  -----  \n",
      " 0   -0.61543     5628 non-null   float64\n",
      " 1   -14.131      5628 non-null   float64\n",
      " 2   7.2227       5628 non-null   float64\n",
      " 3   0.86465      5628 non-null   float64\n",
      " 4   0.82526      5628 non-null   float64\n",
      " 5   0.68033      5628 non-null   float64\n",
      " 6   -0.0077126   5628 non-null   float64\n",
      " 7   0.16853      5628 non-null   float64\n",
      " 8   -0.24033     5628 non-null   float64\n",
      " 9   0.44992      5628 non-null   float64\n",
      " 10  -0.15454     5628 non-null   float64\n",
      " 11  0.032867     5628 non-null   float64\n",
      " 12  -0.10616     5628 non-null   float64\n",
      " 13  0.085554     5628 non-null   float64\n",
      " 14  -0.0052878   5628 non-null   float64\n",
      " 15  -0.059417    5628 non-null   float64\n",
      " 16  0.022089     5628 non-null   float64\n",
      " 17  0.0076177    5628 non-null   float64\n",
      " 18  0.0041761    5628 non-null   float64\n",
      " 19  0.0044006    5628 non-null   float64\n",
      " 20  0.0014369    5628 non-null   float64\n",
      " 21  0.0024351    5628 non-null   float64\n",
      " 22  -0.00082346  5628 non-null   float64\n",
      " 23  0.0011151    5628 non-null   float64\n",
      " 24  -0.00071969  5628 non-null   float64\n",
      " 25  0.00051306   5628 non-null   float64\n",
      " 26  -0.00029175  5628 non-null   float64\n",
      " 27  -0.00012486  5628 non-null   float64\n",
      " 28  0.00058574   5628 non-null   float64\n",
      " 29  0.00021954   5628 non-null   float64\n",
      " 30  0.00018295   5628 non-null   float64\n",
      " 31  5.7226e-05   5628 non-null   float64\n",
      " 32  -1.5089e-05  5628 non-null   float64\n",
      " 33  9.957e-05    5628 non-null   float64\n",
      " 34  0.00010862   5628 non-null   float64\n",
      " 35  7.9155e-05   5628 non-null   float64\n",
      " 36  2.5102e-05   5628 non-null   float64\n",
      " 37  -6.5987e-05  5628 non-null   float64\n",
      " 38  6.4123e-05   5628 non-null   float64\n",
      " 39  1.9451e-05   5628 non-null   float64\n",
      " 40  -7.9717e-05  5628 non-null   float64\n",
      " 41  -4.0829e-05  5628 non-null   float64\n",
      " 42  0            5628 non-null   int64  \n",
      "dtypes: float64(42), int64(1)\n",
      "memory usage: 1.8 MB\n"
     ]
    }
   ],
   "source": [
    "df.info()"
   ]
  },
  {
   "cell_type": "code",
   "execution_count": 29,
   "id": "e2f5cdaf",
   "metadata": {},
   "outputs": [],
   "source": [
    "# import matplotlib.colors as mcolors\n",
    "# colors = list(mcolors.CSS4_COLORS.keys())[3:]\n",
    "# def draw_histograms(dataframe, features, rows, cols):\n",
    "#     fig=plt.figure(figsize=(20,20))\n",
    "#     for i, feature in enumerate(features):\n",
    "#         ax=fig.add_subplot(rows,cols,i+1)\n",
    "#         dataframe[feature].hist(bins=20,ax=ax,facecolor=colors[i])\n",
    "#         ax.set_title(feature+\" Histogram\",color=colors[35])\n",
    "#         ax.set_yscale('log')\n",
    "#     fig.tight_layout() \n",
    "#     plt.savefig('Histograms.png')\n",
    "#     plt.show()\n",
    "# draw_histograms(df,df.columns,8,4)"
   ]
  },
  {
   "cell_type": "code",
   "execution_count": 30,
   "id": "3716d7b5",
   "metadata": {},
   "outputs": [],
   "source": [
    "x_test = df.iloc[:, 0:42].values\n",
    "y_test = df.iloc[:,-1].values"
   ]
  },
  {
   "cell_type": "code",
   "execution_count": null,
   "id": "77b6eae4",
   "metadata": {},
   "outputs": [],
   "source": []
  },
  {
   "cell_type": "code",
   "execution_count": 31,
   "id": "51513c89",
   "metadata": {},
   "outputs": [],
   "source": [
    "scaler = preprocessing.StandardScaler().fit(x_test)\n",
    "x_scaled_test = scaler.transform(x_test)"
   ]
  },
  {
   "cell_type": "code",
   "execution_count": 32,
   "id": "6ed852c3",
   "metadata": {},
   "outputs": [
    {
     "data": {
      "text/plain": [
       "array([1, 2, 2, ..., 0, 0, 0])"
      ]
     },
     "execution_count": 32,
     "metadata": {},
     "output_type": "execute_result"
    }
   ],
   "source": [
    "y_pred=model.predict(x_scaled_test)\n",
    "y_pred"
   ]
  },
  {
   "cell_type": "code",
   "execution_count": 33,
   "id": "4a270d30",
   "metadata": {},
   "outputs": [
    {
     "name": "stdout",
     "output_type": "stream",
     "text": [
      "The Accuracy for Test Set is 71.64179104477611\n",
      "              precision    recall  f1-score   support\n",
      "\n",
      "           0       0.45      0.49      0.47       677\n",
      "           1       0.72      0.81      0.76      2474\n",
      "           2       0.81      0.69      0.74      2477\n",
      "\n",
      "    accuracy                           0.72      5628\n",
      "   macro avg       0.66      0.66      0.66      5628\n",
      "weighted avg       0.73      0.72      0.72      5628\n",
      "\n"
     ]
    }
   ],
   "source": [
    "test_acc = accuracy_score(y_test, y_pred)\n",
    "print(\"The Accuracy for Test Set is {}\".format(test_acc*100))\n",
    "print(classification_report(y_test, y_pred))"
   ]
  },
  {
   "cell_type": "code",
   "execution_count": 34,
   "id": "187320d4",
   "metadata": {},
   "outputs": [
    {
     "data": {
      "image/png": "[encoded data removed]",
      "text/plain": [
       "<Figure size 864x432 with 2 Axes>"
      ]
     },
     "metadata": {
      "needs_background": "light"
     },
     "output_type": "display_data"
    }
   ],
   "source": [
    "cm=confusion_matrix(y_test,y_pred)\n",
    "plt.figure(figsize=(12,6))\n",
    "plt.title(\"Confusion Matrix\")\n",
    "sns.heatmap(cm, annot=True,fmt='d', cmap='Blues')\n",
    "plt.ylabel(\"Actual Values\")\n",
    "plt.xlabel(\"Predicted Values\")\n",
    "plt.savefig('confusion_matrix.png')"
   ]
  },
  {
   "cell_type": "code",
   "execution_count": 35,
   "id": "17cd2b02",
   "metadata": {},
   "outputs": [
    {
     "name": "stdout",
     "output_type": "stream",
     "text": [
      "2\n",
      "EER =  0.8654001616814875\n"
     ]
    }
   ],
   "source": [
    "from sklearn.metrics import accuracy_score\n",
    "from sklearn.metrics import precision_score\n",
    "from sklearn.metrics import recall_score\n",
    "from sklearn.metrics import f1_score\n",
    "\n",
    "import numpy as np\n",
    "from sklearn.metrics import roc_curve\n",
    "\n",
    "fpr, tpr, threshold = roc_curve(y_test,y_pred, pos_label=1)\n",
    "fnr = 1 - tpr\n",
    "eer_threshold = threshold[np.nanargmin(np.absolute((fnr - fpr)))]\n",
    "EER = fnr[np.nanargmin(np.absolute((fnr - fpr)))]\n",
    "print(eer_threshold)\n",
    "print(\"EER = \", EER)"
   ]
  }
 ],
 "metadata": {
  "kernelspec": {
   "display_name": "Python 3 (ipykernel)",
   "language": "python",
   "name": "python3"
  },
  "language_info": {
   "codemirror_mode": {
    "name": "ipython",
    "version": 3
   },
   "file_extension": ".py",
   "mimetype": "text/x-python",
   "name": "python",
   "nbconvert_exporter": "python",
   "pygments_lexer": "ipython3",
   "version": "3.9.7"
  }
 },
 "nbformat": 4,
 "nbformat_minor": 5
}
